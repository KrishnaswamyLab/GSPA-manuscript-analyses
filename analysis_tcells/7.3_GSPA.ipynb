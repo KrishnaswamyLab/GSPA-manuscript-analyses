{
 "cells": [
  {
   "cell_type": "code",
   "execution_count": 1,
   "id": "a1b3f3a4",
   "metadata": {},
   "outputs": [
    {
     "name": "stderr",
     "output_type": "stream",
     "text": [
      "2024-03-21 17:08:59.398412: I tensorflow/core/util/port.cc:110] oneDNN custom operations are on. You may see slightly different numerical results due to floating-point round-off errors from different computation orders. To turn them off, set the environment variable `TF_ENABLE_ONEDNN_OPTS=0`.\n",
      "2024-03-21 17:08:59.400360: I tensorflow/tsl/cuda/cudart_stub.cc:28] Could not find cuda drivers on your machine, GPU will not be used.\n",
      "2024-03-21 17:08:59.505938: I tensorflow/tsl/cuda/cudart_stub.cc:28] Could not find cuda drivers on your machine, GPU will not be used.\n",
      "2024-03-21 17:08:59.518186: I tensorflow/core/platform/cpu_feature_guard.cc:182] This TensorFlow binary is optimized to use available CPU instructions in performance-critical operations.\n",
      "To enable the following instructions: AVX2 AVX512F AVX512_VNNI FMA, in other operations, rebuild TensorFlow with the appropriate compiler flags.\n",
      "2024-03-21 17:09:02.879427: W tensorflow/compiler/tf2tensorrt/utils/py_utils.cc:38] TF-TRT Warning: Could not find TensorRT\n"
     ]
    }
   ],
   "source": [
    "import leidenalg\n",
    "import scanpy, phate\n",
    "import numpy as np\n",
    "import scprep\n",
    "import pandas as pd\n",
    "import gspa"
   ]
  },
  {
   "cell_type": "code",
   "execution_count": 2,
   "id": "e68daa3a-adfe-48a0-920f-ca5a0cf93922",
   "metadata": {},
   "outputs": [],
   "source": [
    "acute = scanpy.read_h5ad('data/acute_tcells.h5ad')\n",
    "chronic = scanpy.read_h5ad('data/chronic_tcells.h5ad')\n",
    "adata = scanpy.concat((acute,chronic))\n",
    "adata.obs['batch'] = adata.obs['batch'].astype('category')"
   ]
  },
  {
   "cell_type": "code",
   "execution_count": 3,
   "id": "35662c3d-798b-4a30-a7bf-6840aba93799",
   "metadata": {},
   "outputs": [
    {
     "name": "stdout",
     "output_type": "stream",
     "text": [
      "Calculating PHATE...\n",
      "  Running PHATE on 39704 observations and 14152 variables.\n",
      "  Calculating graph and diffusion operator...\n",
      "    Calculating PCA...\n",
      "    Calculated PCA in 54.86 seconds.\n",
      "    Calculating KNN search...\n",
      "    Calculated KNN search in 302.97 seconds.\n",
      "    Calculating affinities...\n",
      "    Calculated affinities in 37.12 seconds.\n",
      "  Calculated graph and diffusion operator in 398.18 seconds.\n",
      "  Calculating landmark operator...\n",
      "    Calculating SVD...\n",
      "    Calculated SVD in 40.31 seconds.\n",
      "    Calculating KMeans...\n",
      "    Calculated KMeans in 21.40 seconds.\n",
      "  Calculated landmark operator in 66.39 seconds.\n",
      "  Calculating optimal t...\n",
      "    Automatically selected t = 20\n",
      "  Calculated optimal t in 6.45 seconds.\n",
      "  Calculating diffusion potential...\n",
      "  Calculated diffusion potential in 0.91 seconds.\n",
      "  Calculating metric MDS...\n",
      "  Calculated metric MDS in 14.97 seconds.\n",
      "Calculated PHATE in 486.96 seconds.\n"
     ]
    }
   ],
   "source": [
    "phate_op = phate.PHATE(random_state=42, n_jobs=-1, knn=30)\n",
    "adata.obsm['X_phate'] = phate_op.fit_transform(adata.to_df())"
   ]
  },
  {
   "cell_type": "code",
   "execution_count": 4,
   "id": "5b688fe0-99d6-462d-b47b-6bf22e727530",
   "metadata": {},
   "outputs": [],
   "source": [
    "data, data_hvgs = scprep.select.highly_variable_genes(adata.to_df(), adata.var_names, percentile=90)\n",
    "data_hvg = data[data_hvgs]"
   ]
  },
  {
   "cell_type": "code",
   "execution_count": null,
   "id": "4916f3e9-c2e7-4d9b-8ae3-bcbb876dc2b3",
   "metadata": {},
   "outputs": [],
   "source": [
    "results = {}\n",
    "\n",
    "gspa_op = gspa.GSPA(graph=phate_op.graph, J=5, qr_decompose=False)\n",
    "gspa_op.build_diffusion_operator()\n",
    "gspa_op.build_wavelet_dictionary()\n",
    "\n",
    "# Embed gene signals from wavelet dictionary\n",
    "gene_signals = data_hvg.T # embed highly variable genes\n",
    "gene_ae, gene_pc = gspa_op.get_gene_embeddings(gene_signals)\n",
    "results['signal_embedding'] = gene_ae\n",
    "results['localization_score'] = gspa_op.calculate_localization()"
   ]
  },
  {
   "cell_type": "markdown",
   "id": "91e6c1a7-f5f1-4848-ac6c-8a4dc1d69ef2",
   "metadata": {},
   "source": [
    "### cluster analysis"
   ]
  },
  {
   "cell_type": "code",
   "execution_count": null,
   "id": "83aaf27e-d859-49a4-adac-bb3343a2d478",
   "metadata": {},
   "outputs": [],
   "source": [
    "gene_phate_op = phate.PHATE(random_state=0)\n",
    "data_phate = gene_phate_op.fit_transform(results['signal_embedding'])"
   ]
  },
  {
   "cell_type": "code",
   "execution_count": null,
   "id": "913b9c7b-00c1-4dcd-a3f4-39177ad85f52",
   "metadata": {},
   "outputs": [],
   "source": [
    "gene_clusters = np.array(leidenalg.find_partition(gene_phate_op.graph.to_igraph(), \n",
    "                                                  leidenalg.ModularityVertexPartition,\n",
    "                                                  seed=0).membership)\n",
    "gene_clusters = pd.Series(gene_clusters, index=data_hvgs.values)"
   ]
  },
  {
   "cell_type": "code",
   "execution_count": null,
   "id": "504e4aaa-e2a9-4ef5-b6c3-edf8e9b505ed",
   "metadata": {},
   "outputs": [],
   "source": [
    "np.savez('./results/GSPA_gene_embedding.npz', \n",
    "         signal_embedding=results['signal_embedding'],\n",
    "         localization_score=results['localization_score'],\n",
    "         genes=data_hvgs.values, clusters=gene_clusters.values)"
   ]
  }
 ],
 "metadata": {
  "kernelspec": {
   "display_name": "Python 3 (ipykernel)",
   "language": "python",
   "name": "python3"
  },
  "language_info": {
   "codemirror_mode": {
    "name": "ipython",
    "version": 3
   },
   "file_extension": ".py",
   "mimetype": "text/x-python",
   "name": "python",
   "nbconvert_exporter": "python",
   "pygments_lexer": "ipython3",
   "version": "3.8.18"
  }
 },
 "nbformat": 4,
 "nbformat_minor": 5
}
