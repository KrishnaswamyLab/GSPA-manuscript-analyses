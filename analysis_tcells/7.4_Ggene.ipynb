{
 "cells": [
  {
   "cell_type": "code",
   "execution_count": 2,
   "id": "f998bc61-69f3-4e79-8eae-3dff08c48e47",
   "metadata": {},
   "outputs": [
    {
     "ename": "ModuleNotFoundError",
     "evalue": "No module named 'run'",
     "output_type": "error",
     "traceback": [
      "\u001b[0;31m---------------------------------------------------------------------------\u001b[0m",
      "\u001b[0;31mModuleNotFoundError\u001b[0m                       Traceback (most recent call last)",
      "Cell \u001b[0;32mIn[2], line 7\u001b[0m\n\u001b[1;32m      5\u001b[0m \u001b[38;5;28;01mimport\u001b[39;00m \u001b[38;5;21;01mnumpy\u001b[39;00m \u001b[38;5;28;01mas\u001b[39;00m \u001b[38;5;21;01mnp\u001b[39;00m\n\u001b[1;32m      6\u001b[0m \u001b[38;5;28;01mimport\u001b[39;00m \u001b[38;5;21;01mpandas\u001b[39;00m \u001b[38;5;28;01mas\u001b[39;00m \u001b[38;5;21;01mpd\u001b[39;00m\n\u001b[0;32m----> 7\u001b[0m \u001b[38;5;28;01mfrom\u001b[39;00m \u001b[38;5;21;01mrun\u001b[39;00m\u001b[38;5;21;01m.\u001b[39;00m\u001b[38;5;21;01mrun_node2vec\u001b[39;00m \u001b[38;5;28;01mimport\u001b[39;00m run_node2vec\n\u001b[1;32m      8\u001b[0m \u001b[38;5;28;01mfrom\u001b[39;00m \u001b[38;5;21;01mrun\u001b[39;00m\u001b[38;5;21;01m.\u001b[39;00m\u001b[38;5;21;01mrun_gae\u001b[39;00m \u001b[38;5;28;01mimport\u001b[39;00m run_gae\n\u001b[1;32m      9\u001b[0m \u001b[38;5;28;01mfrom\u001b[39;00m \u001b[38;5;21;01mscipy\u001b[39;00m\u001b[38;5;21;01m.\u001b[39;00m\u001b[38;5;21;01mspatial\u001b[39;00m\u001b[38;5;21;01m.\u001b[39;00m\u001b[38;5;21;01mdistance\u001b[39;00m \u001b[38;5;28;01mimport\u001b[39;00m cdist\n",
      "\u001b[0;31mModuleNotFoundError\u001b[0m: No module named 'run'"
     ]
    }
   ],
   "source": [
    "import sklearn.neighbors as neighbors\n",
    "import pygsp, leidenalg\n",
    "import scanpy, scprep\n",
    "import phate\n",
    "import numpy as np\n",
    "import pandas as pd\n",
    "from run.run_node2vec import run_node2vec\n",
    "from run.run_gae import run_gae\n",
    "from scipy.spatial.distance import cdist"
   ]
  },
  {
   "cell_type": "code",
   "execution_count": null,
   "id": "7c4bd26a-144e-4d52-bd29-d13e61c7a435",
   "metadata": {},
   "outputs": [],
   "source": [
    "from types import SimpleNamespace\n",
    "config_args = {\n",
    "    'lr': (0.001, 'learning rate'),\n",
    "        'dropout': (0.0, 'dropout probability'),\n",
    "        'epochs': (100, 'maximum number of epochs to train for'),\n",
    "        'weight_decay': (0., 'l2 regularization strength'),\n",
    "        'patience': (10, 'patience for early stopping'),\n",
    "        'min_epochs': (50, 'do not early stop before min_epochs'),\n",
    "        'seed': (1234, 'seed for training'),\n",
    "        'walk_length': (80, 'walk length for Node2Vec'),\n",
    "        'num_walks': (10, 'number of walks for Node2Vec'),\n",
    "        'task': ('localization', 'task for paper, can be any of [coexpression, localization]'),\n",
    "        'verbose': (1, 'verbosity, of [0, 1, 2]'),\n",
    "        'add_pseudotime': (0, 'whether to add time signal (1) or not (0)'),\n",
    "        'model': ('GSPA', 'which model to use, can be one of [Signals, DiffusionEMD, GFMMD, GSPA, GSPA_QR, MAGIC, Node2Vec_Gcell, GAE_noatt_Gcell, GAE_att_Gcell, Node2Vec_Ggene, GAE_noatt_Ggene, GAE_att_Ggene]'),\n",
    "        'dim': (128, 'embedding dimension'),\n",
    "        'num_layers': (2, 'number of hidden layers in encoder'),\n",
    "        'bias': (1, 'whether to use bias (1) or not (0)'),\n",
    "        'act': ('relu', 'which activation function to use of [relu, tanh, None]'),\n",
    "        'k_neighbors_gene': (5, 'default number of neighbors k for kNN gene graph construction'),\n",
    "        'device': ('cpu', 'Device for model'),\n",
    "        'val_prop': (0.05, 'proportion of validation'),\n",
    "        'test_prop': (0.0, 'proportion of test'),\n",
    "        'split_seed': (1234, 'seed for data splits (train/test/val)'),\n",
    "        'save_as': ('0', 'name for embedding iteration'),\n",
    "        'k_neighbors_cell': (5, 'default number of neighbors k for kNN cell graph construction'),\n",
    "        'kernel': ('adaptive', 'which kernel to use, can be one of [adaptive, kNN, SNN]'),\n",
    "        'J': (-1, 'maximum scale for GSPA or GSPA_QR, by default int(log(N))')\n",
    "}\n",
    "config_args = pd.DataFrame([x[0] for x in config_args.values()], config_args.keys())[0].to_dict()\n",
    "args = SimpleNamespace(**config_args, )"
   ]
  },
  {
   "cell_type": "code",
   "execution_count": 4,
   "id": "a8aa8f42-2553-408b-b8d8-ac4095fc03a7",
   "metadata": {},
   "outputs": [],
   "source": [
    "acute = scanpy.read_h5ad('data/acute_tcells.h5ad')\n",
    "chronic = scanpy.read_h5ad('data/chronic_tcells.h5ad')\n",
    "adata = scanpy.concat((acute,chronic))\n",
    "adata.obs['batch'] = adata.obs['batch'].astype('category')"
   ]
  },
  {
   "cell_type": "code",
   "execution_count": 13,
   "id": "bf832539-ecca-4bbb-8aac-a6f69885a418",
   "metadata": {},
   "outputs": [],
   "source": [
    "data, data_hvgs = scprep.select.highly_variable_genes(adata.to_df(), adata.var_names, percentile=90)\n",
    "data_hvg = data[data_hvgs]\n",
    "data_hvg = data_hvg / np.linalg.norm(data_hvg, axis=0)"
   ]
  },
  {
   "cell_type": "code",
   "execution_count": 14,
   "id": "fc27b813-6783-40d4-8f49-682b3b79f301",
   "metadata": {},
   "outputs": [],
   "source": [
    "uniform_signal = np.ones((1, adata.n_obs))\n",
    "uniform_signal = uniform_signal / np.linalg.norm(uniform_signal, axis=1).reshape(-1,1)"
   ]
  },
  {
   "cell_type": "code",
   "execution_count": 16,
   "id": "80b43339-e76e-4d4f-8029-e6dc2f23e426",
   "metadata": {},
   "outputs": [],
   "source": [
    "signal_graph = neighbors.kneighbors_graph(data_hvg.T, n_neighbors=5)\n",
    "signal_graph = pygsp.graphs.Graph(signal_graph)\n",
    "signal_graph.W = signal_graph.A"
   ]
  },
  {
   "cell_type": "code",
   "execution_count": 17,
   "id": "be61ccb4-a519-4d80-89fa-0e5d2185d3c9",
   "metadata": {},
   "outputs": [],
   "source": [
    "# localization calculation requires separate graph with uniform signal\n",
    "signals_with_uniform = np.vstack((data_hvg.T, uniform_signal))\n",
    "signals_with_uniform_graph = sklearn.neighbors.kneighbors_graph(signals_with_uniform, n_neighbors=5)\n",
    "signals_with_uniform_graph = pygsp.graphs.Graph(signals_with_uniform_graph)\n",
    "signals_with_uniform_graph.W = signals_with_uniform_graph.A"
   ]
  },
  {
   "cell_type": "markdown",
   "id": "c23c07f9-0812-4c42-a66d-9f5bb15212a9",
   "metadata": {},
   "source": [
    "#### Node2Vec_Ggene"
   ]
  },
  {
   "cell_type": "code",
   "execution_count": 27,
   "id": "6a5a3e4e-b306-43e2-b45a-20eeb58c90b0",
   "metadata": {},
   "outputs": [
    {
     "data": {
      "application/vnd.jupyter.widget-view+json": {
       "model_id": "c0d31355bd424090928e4a77a8a41f3a",
       "version_major": 2,
       "version_minor": 0
      },
      "text/plain": [
       "Computing transition probabilities:   0%|          | 0/1416 [00:00<?, ?it/s]"
      ]
     },
     "metadata": {},
     "output_type": "display_data"
    },
    {
     "name": "stderr",
     "output_type": "stream",
     "text": [
      "Generating walks (CPU: 1): 100%|██████████| 10/10 [00:27<00:00,  2.75s/it]\n"
     ]
    },
    {
     "data": {
      "application/vnd.jupyter.widget-view+json": {
       "model_id": "64318c7fea004fb38849fd002f468c5f",
       "version_major": 2,
       "version_minor": 0
      },
      "text/plain": [
       "Computing transition probabilities:   0%|          | 0/1417 [00:00<?, ?it/s]"
      ]
     },
     "metadata": {},
     "output_type": "display_data"
    },
    {
     "name": "stderr",
     "output_type": "stream",
     "text": [
      "Generating walks (CPU: 1): 100%|██████████| 10/10 [00:27<00:00,  2.78s/it]\n"
     ]
    }
   ],
   "source": [
    "results = {}\n",
    "results['signal_embedding'] = run_node2vec(signal_graph, args=args)\n",
    "signals_with_uniform_embedding = run_node2vec(signals_with_uniform_graph, args=args)\n",
    "results['localization_score'] = cdist(signals_with_uniform_embedding[-1], signals_with_uniform_embedding[:-1]).reshape(-1,)"
   ]
  },
  {
   "cell_type": "code",
   "execution_count": 30,
   "id": "f0f1d4c3-923e-4845-9b5d-45be97c867ae",
   "metadata": {},
   "outputs": [
    {
     "name": "stdout",
     "output_type": "stream",
     "text": [
      "Calculating PHATE...\n",
      "  Running PHATE on 1416 observations and 128 variables.\n",
      "  Calculating graph and diffusion operator...\n",
      "    Calculating PCA...\n",
      "    Calculated PCA in 0.30 seconds.\n",
      "    Calculating KNN search...\n",
      "    Calculated KNN search in 0.70 seconds.\n",
      "    Calculating affinities...\n",
      "    Calculated affinities in 0.03 seconds.\n",
      "  Calculated graph and diffusion operator in 1.05 seconds.\n",
      "  Calculating optimal t...\n",
      "    Automatically selected t = 20\n",
      "  Calculated optimal t in 3.29 seconds.\n",
      "  Calculating diffusion potential...\n",
      "  Calculated diffusion potential in 0.77 seconds.\n",
      "  Calculating metric MDS...\n",
      "  Calculated metric MDS in 7.09 seconds.\n",
      "Calculated PHATE in 12.27 seconds.\n"
     ]
    }
   ],
   "source": [
    "gene_phate_op = phate.PHATE(random_state=0)\n",
    "data_phate = gene_phate_op.fit_transform(results['signal_embedding'])"
   ]
  },
  {
   "cell_type": "code",
   "execution_count": 33,
   "id": "90efdbf9-a8a6-4ccd-96b6-d5a1845aa06d",
   "metadata": {},
   "outputs": [],
   "source": [
    "gene_clusters = np.array(leidenalg.find_partition(gene_phate_op.graph.to_igraph(), \n",
    "                                                  leidenalg.ModularityVertexPartition,\n",
    "                                                  seed=0).membership)\n",
    "gene_clusters = pd.Series(gene_clusters, index=data_hvgs.values)"
   ]
  },
  {
   "cell_type": "code",
   "execution_count": 34,
   "id": "5ab56491-bbe2-490a-8a1f-cbe48c0535b3",
   "metadata": {},
   "outputs": [],
   "source": [
    "np.savez('./results/Node2Vec_Ggene_gene_embedding.npz', \n",
    "         signal_embedding=results['signal_embedding'],\n",
    "         localization_score=results['localization_score'],\n",
    "         genes=data_hvgs.values, clusters=gene_clusters.values)"
   ]
  },
  {
   "cell_type": "markdown",
   "id": "d0aecdb4-c9cf-4f7b-bde7-e3d7e8c3506d",
   "metadata": {},
   "source": [
    "#### GAE_noatt_Ggene"
   ]
  },
  {
   "cell_type": "code",
   "execution_count": 94,
   "id": "aa6ed002-d13e-4516-8b2d-65dd1117583c",
   "metadata": {},
   "outputs": [],
   "source": [
    "results = {}\n",
    "args.attention = False\n",
    "results['signal_embedding'] = run_gae(signal_graph, args)\n",
    "signals_with_uniform_embedding = run_gae(signals_with_uniform_graph, args)\n",
    "results['localization_score'] = cdist(signals_with_uniform_embedding[-1], signals_with_uniform_embedding[:-1]).reshape(-1,)"
   ]
  },
  {
   "cell_type": "code",
   "execution_count": 95,
   "id": "f4ee6b93-2610-4a86-99fb-920700e8d08e",
   "metadata": {},
   "outputs": [
    {
     "name": "stdout",
     "output_type": "stream",
     "text": [
      "Calculating PHATE...\n",
      "  Running PHATE on 1416 observations and 128 variables.\n",
      "  Calculating graph and diffusion operator...\n",
      "    Calculating PCA...\n",
      "    Calculated PCA in 0.37 seconds.\n",
      "    Calculating KNN search...\n",
      "    Calculated KNN search in 0.56 seconds.\n",
      "    Calculating affinities...\n",
      "    Calculated affinities in 0.04 seconds.\n",
      "  Calculated graph and diffusion operator in 1.00 seconds.\n",
      "  Calculating optimal t...\n",
      "    Automatically selected t = 27\n",
      "  Calculated optimal t in 5.00 seconds.\n",
      "  Calculating diffusion potential...\n",
      "  Calculated diffusion potential in 0.99 seconds.\n",
      "  Calculating metric MDS...\n",
      "  Calculated metric MDS in 4.04 seconds.\n",
      "Calculated PHATE in 11.05 seconds.\n"
     ]
    }
   ],
   "source": [
    "gene_phate_op = phate.PHATE(random_state=0)\n",
    "data_phate = gene_phate_op.fit_transform(results['signal_embedding'])"
   ]
  },
  {
   "cell_type": "code",
   "execution_count": 96,
   "id": "e67df73b-4a9a-4a86-b4d1-1106c38bdffe",
   "metadata": {},
   "outputs": [],
   "source": [
    "gene_clusters = np.array(leidenalg.find_partition(gene_phate_op.graph.to_igraph(), \n",
    "                                                  leidenalg.ModularityVertexPartition,\n",
    "                                                  seed=0).membership)\n",
    "gene_clusters = pd.Series(gene_clusters, index=data_hvgs.values)"
   ]
  },
  {
   "cell_type": "code",
   "execution_count": 97,
   "id": "0233e7f7-c9a5-4592-b08e-a66d0e1d5604",
   "metadata": {},
   "outputs": [],
   "source": [
    "np.savez('./results/GAE_noatt_Ggene_gene_embedding.npz', \n",
    "         signal_embedding=results['signal_embedding'],\n",
    "         localization_score=results['localization_score'],\n",
    "         genes=data_hvgs.values, clusters=gene_clusters.values)"
   ]
  },
  {
   "cell_type": "markdown",
   "id": "d72639e6-cba4-4706-8543-a34677483ae6",
   "metadata": {},
   "source": [
    "#### GAE_att_Ggene"
   ]
  },
  {
   "cell_type": "code",
   "execution_count": 98,
   "id": "0e83666b-ab15-4006-adb7-bb1c23c85fbd",
   "metadata": {},
   "outputs": [],
   "source": [
    "results = {}\n",
    "args.attention = True\n",
    "results['signal_embedding'] = run_gae(signal_graph, args)\n",
    "signals_with_uniform_embedding = run_gae(signals_with_uniform_graph, args)\n",
    "results['localization_score'] = cdist(signals_with_uniform_embedding[-1], signals_with_uniform_embedding[:-1]).reshape(-1,)"
   ]
  },
  {
   "cell_type": "code",
   "execution_count": 99,
   "id": "974f36d4-fde2-4876-aa20-467f8a695055",
   "metadata": {},
   "outputs": [
    {
     "name": "stdout",
     "output_type": "stream",
     "text": [
      "Calculating PHATE...\n",
      "  Running PHATE on 1416 observations and 128 variables.\n",
      "  Calculating graph and diffusion operator...\n",
      "    Calculating PCA...\n",
      "    Calculated PCA in 0.21 seconds.\n",
      "    Calculating KNN search...\n",
      "    Calculated KNN search in 0.48 seconds.\n",
      "    Calculating affinities...\n",
      "  Calculated graph and diffusion operator in 0.70 seconds.\n",
      "  Calculating optimal t...\n"
     ]
    },
    {
     "name": "stderr",
     "output_type": "stream",
     "text": [
      "/gpfs/gibbs/project/krishnaswamy_smita/av622/conda_envs/gspa/lib/python3.8/site-packages/graphtools/graphs.py:283: RuntimeWarning: Detected zero distance between samples 408 and 1076, 758 and 759, 994 and 995. Consider removing duplicates to avoid errors in downstream processing.\n",
      "  warnings.warn(\n"
     ]
    },
    {
     "name": "stdout",
     "output_type": "stream",
     "text": [
      "    Automatically selected t = 26\n",
      "  Calculated optimal t in 2.43 seconds.\n",
      "  Calculating diffusion potential...\n",
      "  Calculated diffusion potential in 0.88 seconds.\n",
      "  Calculating metric MDS...\n",
      "  Calculated metric MDS in 5.08 seconds.\n",
      "Calculated PHATE in 9.11 seconds.\n"
     ]
    }
   ],
   "source": [
    "gene_phate_op = phate.PHATE(random_state=0)\n",
    "data_phate = gene_phate_op.fit_transform(results['signal_embedding'])"
   ]
  },
  {
   "cell_type": "code",
   "execution_count": 100,
   "id": "116b2c58-7df3-4409-a19d-2c1801a500f0",
   "metadata": {},
   "outputs": [],
   "source": [
    "gene_clusters = np.array(leidenalg.find_partition(gene_phate_op.graph.to_igraph(), \n",
    "                                                  leidenalg.ModularityVertexPartition,\n",
    "                                                  seed=0).membership)\n",
    "gene_clusters = pd.Series(gene_clusters, index=data_hvgs.values)"
   ]
  },
  {
   "cell_type": "code",
   "execution_count": 101,
   "id": "15bf33f4-4a36-41bb-9fcd-b40e9977998a",
   "metadata": {},
   "outputs": [],
   "source": [
    "np.savez('./results/GAE_att_Ggene_gene_embedding.npz', \n",
    "         signal_embedding=results['signal_embedding'],\n",
    "         localization_score=results['localization_score'],\n",
    "         genes=data_hvgs.values, clusters=gene_clusters.values)"
   ]
  }
 ],
 "metadata": {
  "kernelspec": {
   "display_name": "Python 3 (ipykernel)",
   "language": "python",
   "name": "python3"
  },
  "language_info": {
   "codemirror_mode": {
    "name": "ipython",
    "version": 3
   },
   "file_extension": ".py",
   "mimetype": "text/x-python",
   "name": "python",
   "nbconvert_exporter": "python",
   "pygments_lexer": "ipython3",
   "version": "3.8.18"
  }
 },
 "nbformat": 4,
 "nbformat_minor": 5
}
