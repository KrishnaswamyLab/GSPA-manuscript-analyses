{
 "cells": [
  {
   "cell_type": "code",
   "execution_count": 1,
   "id": "7bd85e81-1fdb-4655-9273-22d3e37f50ea",
   "metadata": {},
   "outputs": [],
   "source": [
    "import numpy as np\n",
    "import pandas as pd\n",
    "import scanpy as sc\n",
    "import phate, scprep\n",
    "import matplotlib.pyplot as plt\n",
    "import leidenalg\n",
    "from scipy.spatial.distance import cdist"
   ]
  },
  {
   "cell_type": "code",
   "execution_count": 34,
   "id": "e7389d9f-7ea9-4f86-8b96-a7d33a7d2353",
   "metadata": {},
   "outputs": [],
   "source": [
    "data = sc.read_h5ad('/home/av622/palmer_scratch/all_cd8_t_cells.h5ad').to_df()\n",
    "data, data_hvgs = scprep.select.highly_variable_genes(data, data.columns, percentile=90)\n",
    "genes = data_hvgs.to_list() + ['uniform']"
   ]
  },
  {
   "cell_type": "code",
   "execution_count": 37,
   "id": "3cbf25cb-aa6b-4de0-8bf5-6d2c972247bd",
   "metadata": {},
   "outputs": [],
   "source": [
    "siVAE_results = np.load('results/siVAE_gene_embedding_tcells_hvg_loc.npz', allow_pickle=True)"
   ]
  },
  {
   "cell_type": "code",
   "execution_count": 57,
   "id": "f85d5c08-8b1b-4b8a-ae8e-6286bbf2f553",
   "metadata": {},
   "outputs": [
    {
     "name": "stdout",
     "output_type": "stream",
     "text": [
      "Calculating PHATE...\n",
      "  Running PHATE on 1416 observations and 128 variables.\n",
      "  Calculating graph and diffusion operator...\n",
      "    Calculating PCA...\n",
      "    Calculated PCA in 0.02 seconds.\n",
      "    Calculating KNN search...\n",
      "    Calculated KNN search in 0.10 seconds.\n",
      "    Calculating affinities...\n",
      "  Calculated graph and diffusion operator in 0.13 seconds.\n",
      "  Calculating optimal t...\n",
      "    Automatically selected t = 23\n",
      "  Calculated optimal t in 0.80 seconds.\n",
      "  Calculating diffusion potential...\n",
      "  Calculated diffusion potential in 0.33 seconds.\n",
      "  Calculating metric MDS...\n",
      "  Calculated metric MDS in 2.20 seconds.\n",
      "Calculated PHATE in 3.48 seconds.\n"
     ]
    }
   ],
   "source": [
    "gene_phate_op = phate.PHATE(random_state=0)\n",
    "data_phate = gene_phate_op.fit_transform(siVAE_results['signal_embedding'][:1416])"
   ]
  },
  {
   "cell_type": "code",
   "execution_count": 61,
   "id": "cc5814c6-6aac-46cf-8695-2b06fb802308",
   "metadata": {},
   "outputs": [],
   "source": [
    "gene_clusters = np.array(leidenalg.find_partition(gene_phate_op.graph.to_igraph(), \n",
    "                                                  leidenalg.ModularityVertexPartition,\n",
    "                                                  seed=0).membership)\n",
    "gene_clusters = pd.Series(gene_clusters, index=data_hvgs.values)"
   ]
  },
  {
   "cell_type": "code",
   "execution_count": 45,
   "id": "fc99ddf7-f52d-40d3-b088-5d1315209c23",
   "metadata": {},
   "outputs": [],
   "source": [
    "localization_score = cdist(siVAE_results['signal_embedding'][1416],\n",
    "                                                             siVAE_results['signal_embedding'][:1416]).reshape(-1,)"
   ]
  },
  {
   "cell_type": "code",
   "execution_count": 63,
   "id": "e89a3f71-ade7-478d-a3fa-cf5d5d2f0f08",
   "metadata": {},
   "outputs": [],
   "source": [
    "np.savez('./results/siVAE_gene_embedding.npz', \n",
    "         signal_embedding=siVAE_results['signal_embedding'][:1416],\n",
    "         localization_score=localization_score,\n",
    "         genes=data_hvgs.values, clusters=gene_clusters.values)"
   ]
  }
 ],
 "metadata": {
  "kernelspec": {
   "display_name": "Python 3 (ipykernel)",
   "language": "python",
   "name": "python3"
  },
  "language_info": {
   "codemirror_mode": {
    "name": "ipython",
    "version": 3
   },
   "file_extension": ".py",
   "mimetype": "text/x-python",
   "name": "python",
   "nbconvert_exporter": "python",
   "pygments_lexer": "ipython3",
   "version": "3.8.18"
  }
 },
 "nbformat": 4,
 "nbformat_minor": 5
}
