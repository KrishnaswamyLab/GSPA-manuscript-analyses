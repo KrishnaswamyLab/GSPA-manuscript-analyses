{
 "cells": [
  {
   "cell_type": "code",
   "execution_count": 1,
   "id": "7bd85e81-1fdb-4655-9273-22d3e37f50ea",
   "metadata": {},
   "outputs": [
    {
     "name": "stderr",
     "output_type": "stream",
     "text": [
      "2024-06-24 14:07:33.513913: I tensorflow/core/util/port.cc:110] oneDNN custom operations are on. You may see slightly different numerical results due to floating-point round-off errors from different computation orders. To turn them off, set the environment variable `TF_ENABLE_ONEDNN_OPTS=0`.\n",
      "2024-06-24 14:07:33.515717: I tensorflow/tsl/cuda/cudart_stub.cc:28] Could not find cuda drivers on your machine, GPU will not be used.\n",
      "2024-06-24 14:07:33.555473: I tensorflow/tsl/cuda/cudart_stub.cc:28] Could not find cuda drivers on your machine, GPU will not be used.\n",
      "2024-06-24 14:07:33.556697: I tensorflow/core/platform/cpu_feature_guard.cc:182] This TensorFlow binary is optimized to use available CPU instructions in performance-critical operations.\n",
      "To enable the following instructions: AVX2 AVX512F AVX512_VNNI FMA, in other operations, rebuild TensorFlow with the appropriate compiler flags.\n",
      "2024-06-24 14:07:34.355886: W tensorflow/compiler/tf2tensorrt/utils/py_utils.cc:38] TF-TRT Warning: Could not find TensorRT\n"
     ]
    }
   ],
   "source": [
    "import simba as si\n",
    "import numpy as np\n",
    "import pandas as pd\n",
    "import scanpy as sc\n",
    "import scprep, phate\n",
    "import matplotlib.pyplot as plt\n",
    "import leidenalg\n",
    "from scipy.spatial.distance import cdist"
   ]
  },
  {
   "cell_type": "code",
   "execution_count": 6,
   "id": "0dcd1bd8-503b-4f75-be5e-1932c3ede15c",
   "metadata": {},
   "outputs": [],
   "source": [
    "dataset = 'tcells'"
   ]
  },
  {
   "cell_type": "code",
   "execution_count": 7,
   "id": "0b6dbe06-a0e6-4cf5-b85b-bb94d9d2b677",
   "metadata": {},
   "outputs": [],
   "source": [
    "adata = sc.read_h5ad('/home/av622/palmer_scratch/all_cd8_t_cells.h5ad')"
   ]
  },
  {
   "cell_type": "code",
   "execution_count": 8,
   "id": "88c813df-aa9a-4fa2-8b66-8f4006730357",
   "metadata": {},
   "outputs": [],
   "source": [
    "data, data_hvgs = scprep.select.highly_variable_genes(adata.to_df(), adata.var_names, percentile=90)\n",
    "data_hvg = data[data_hvgs]\n",
    "data_hvg = data_hvg / np.linalg.norm(data_hvg, axis=0)"
   ]
  },
  {
   "cell_type": "code",
   "execution_count": 9,
   "id": "2024086b-d865-4616-9cba-c1a9bb6d71e4",
   "metadata": {},
   "outputs": [
    {
     "name": "stderr",
     "output_type": "stream",
     "text": [
      "/tmp/ipykernel_2949040/3841727164.py:4: FutureWarning: X.dtype being converted to np.float32 from float64. In the next version of anndata (0.9) conversion will not be automatic. Pass dtype explicitly to avoid this warning. Pass `AnnData(X, dtype=X.dtype, ...)` to get the future behavour.\n",
      "  adata_hvg = sc.AnnData(data)\n"
     ]
    }
   ],
   "source": [
    "uniform_signal = np.ones((1, data_hvg.shape[0]))\n",
    "uniform_signal = (uniform_signal / np.linalg.norm(uniform_signal, axis=1)).reshape(-1,1)\n",
    "data = np.hstack((data_hvg, uniform_signal))\n",
    "adata_hvg = sc.AnnData(data)"
   ]
  },
  {
   "cell_type": "code",
   "execution_count": 10,
   "id": "1858e3e7-65eb-4cdd-846e-7af0f9bfdce7",
   "metadata": {},
   "outputs": [],
   "source": [
    "adata_hvg.obs_names = adata.obs_names\n",
    "adata_hvg.var_names = list(data_hvgs) + ['uniform']"
   ]
  },
  {
   "cell_type": "code",
   "execution_count": 11,
   "id": "91b6c203-3524-4fcb-8926-1a1b1960beed",
   "metadata": {},
   "outputs": [],
   "source": [
    "adata = adata_hvg"
   ]
  },
  {
   "cell_type": "code",
   "execution_count": 12,
   "id": "b326c78b-c8ff-4391-87f0-c7db129212f7",
   "metadata": {},
   "outputs": [
    {
     "data": {
      "image/png": "[encoded data removed]",
      "text/plain": [
       "<Figure size 600x600 with 2 Axes>"
      ]
     },
     "metadata": {},
     "output_type": "display_data"
    }
   ],
   "source": [
    "si.tl.discretize(adata)\n",
    "si.pl.discretize(adata)"
   ]
  },
  {
   "cell_type": "code",
   "execution_count": 14,
   "id": "c6e07914-25be-4413-bfe6-4d6789de418d",
   "metadata": {},
   "outputs": [
    {
     "name": "stdout",
     "output_type": "stream",
     "text": [
      "relation0: source: C, destination: G\n",
      "#edges: 28130284\n",
      "relation1: source: C, destination: G\n",
      "#edges: 18580485\n",
      "relation2: source: C, destination: G\n",
      "#edges: 4538316\n",
      "relation3: source: C, destination: G\n",
      "#edges: 3289259\n",
      "relation4: source: C, destination: G\n",
      "#edges: 1418860\n",
      "relation5: source: C, destination: G\n",
      "#edges: 303364\n",
      "Total number of edges: 56260568\n",
      "Writing graph file \"pbg_graph.txt\" to \"/home/av622/palmer_scratch/pbg/simba_graph_tcells_final_run\" ...\n",
      "Finished.\n"
     ]
    }
   ],
   "source": [
    "si.tl.gen_graph(list_CG=[adata],\n",
    "                layer='simba',\n",
    "                use_highly_variable=False,\n",
    "                dirname=f'simba_graph_{dataset}_final_run')"
   ]
  },
  {
   "cell_type": "code",
   "execution_count": 15,
   "id": "ec3ded04-1107-440e-a43d-ef180b774fe0",
   "metadata": {},
   "outputs": [],
   "source": [
    "dict_config = si.settings.pbg_params.copy()\n",
    "dict_config['dimension'] = 128 # comparable to other methods"
   ]
  },
  {
   "cell_type": "code",
   "execution_count": 16,
   "id": "19cfb2f7-2664-4db9-b6e2-881ad2416c68",
   "metadata": {},
   "outputs": [
    {
     "name": "stdout",
     "output_type": "stream",
     "text": [
      "Auto-estimating weight decay ...\n",
      "`.settings.pbg_params['wd']` has been updated to 0.00042\n",
      "Weight decay being used for training is 0.00042\n",
      "Converting input data ...\n",
      "[2024-05-23 10:58:23.283845] Found some files that indicate that the input data has already been preprocessed, not doing it again.\n",
      "[2024-05-23 10:58:23.284355] These files are in: /home/av622/palmer_scratch/pbg/simba_graph_tcells_final_run/input/entity, /home/av622/palmer_scratch/pbg/simba_graph_tcells_final_run/input/edge\n",
      "Starting training ...\n"
     ]
    },
    {
     "name": "stderr",
     "output_type": "stream",
     "text": [
      "/gpfs/gibbs/project/krishnaswamy_smita/av622/conda_envs/gspa/lib/python3.8/site-packages/torchbiggraph/util.py:211: UserWarning: TypedStorage is deprecated. It will be removed in the future and UntypedStorage will be the only storage class. This should only matter to you if you are using storages directly.  To access UntypedStorage directly, use tensor.untyped_storage() instead of tensor.storage()\n",
      "  storage_type = dummy_tensor.storage_type()\n",
      "/gpfs/gibbs/project/krishnaswamy_smita/av622/conda_envs/gspa/lib/python3.8/site-packages/torch/storage.py:959: UserWarning: TypedStorage is deprecated. It will be removed in the future and UntypedStorage will be the only storage class. This should only matter to you if you are using storages directly.  To access UntypedStorage directly, use tensor.untyped_storage() instead of tensor.storage()\n",
      "  if self.device.type not in ['cpu', 'cuda']:\n",
      "/gpfs/gibbs/project/krishnaswamy_smita/av622/conda_envs/gspa/lib/python3.8/site-packages/torch/storage.py:962: UserWarning: TypedStorage is deprecated. It will be removed in the future and UntypedStorage will be the only storage class. This should only matter to you if you are using storages directly.  To access UntypedStorage directly, use tensor.untyped_storage() instead of tensor.storage()\n",
      "  module = torch if self.device.type == 'cpu' else torch.cuda\n",
      "/gpfs/gibbs/project/krishnaswamy_smita/av622/conda_envs/gspa/lib/python3.8/site-packages/torch/storage.py:985: UserWarning: TypedStorage is deprecated. It will be removed in the future and UntypedStorage will be the only storage class. This should only matter to you if you are using storages directly.  To access UntypedStorage directly, use tensor.untyped_storage() instead of tensor.storage()\n",
      "  untyped_storage = torch.UntypedStorage._new_shared(size * cls()._element_size())\n",
      "/gpfs/gibbs/project/krishnaswamy_smita/av622/conda_envs/gspa/lib/python3.8/site-packages/torch/storage.py:986: UserWarning: TypedStorage is deprecated. It will be removed in the future and UntypedStorage will be the only storage class. This should only matter to you if you are using storages directly.  To access UntypedStorage directly, use tensor.untyped_storage() instead of tensor.storage()\n",
      "  return cls(wrap_storage=untyped_storage)\n",
      "/gpfs/gibbs/project/krishnaswamy_smita/av622/conda_envs/gspa/lib/python3.8/site-packages/torch/_utils.py:776: UserWarning: TypedStorage is deprecated. It will be removed in the future and UntypedStorage will be the only storage class. This should only matter to you if you are using storages directly.  To access UntypedStorage directly, use tensor.untyped_storage() instead of tensor.storage()\n",
      "  return self.fget.__get__(instance, owner)()\n",
      "/gpfs/gibbs/project/krishnaswamy_smita/av622/conda_envs/gspa/lib/python3.8/site-packages/torchbiggraph/train_cpu.py:302: UserWarning: TypedStorage is deprecated. It will be removed in the future and UntypedStorage will be the only storage class. This should only matter to you if you are using storages directly.  To access UntypedStorage directly, use tensor.untyped_storage() instead of tensor.storage()\n",
      "  allocate_shared_tensor(\n"
     ]
    },
    {
     "name": "stdout",
     "output_type": "stream",
     "text": [
      "Finished\n"
     ]
    }
   ],
   "source": [
    "si.tl.pbg_train(pbg_params = dict_config, auto_wd=True, save_wd=True, output=f'model_128_{dataset}_final_run')"
   ]
  },
  {
   "cell_type": "markdown",
   "id": "ba596e65-569d-4235-999f-ed844e026348",
   "metadata": {},
   "source": [
    "## Get gene clusters, localization, and reformat"
   ]
  },
  {
   "cell_type": "code",
   "execution_count": 20,
   "id": "cc39c31f-9508-4e44-bce6-fa383b89f5e4",
   "metadata": {},
   "outputs": [],
   "source": [
    "dataset = 'tcells'\n",
    "path = f'/home/av622/palmer_scratch/pbg/simba_graph_{dataset}_final_run/'\n",
    "run = f'model_128_{dataset}_final_run'\n",
    "path_emb = path + run\n",
    "path_entity = path + '/input/entity'\n",
    "\n",
    "adata_G = si.read_embedding(path_emb=path_emb, path_entity=path_entity)['G']"
   ]
  },
  {
   "cell_type": "code",
   "execution_count": 52,
   "id": "132dd42f-4936-4dee-8f32-68f78ecb71cb",
   "metadata": {},
   "outputs": [],
   "source": [
    "df_results = adata_G.to_df().loc[data_hvgs]\n",
    "uniform = adata_G.to_df().loc['uniform']"
   ]
  },
  {
   "cell_type": "code",
   "execution_count": 56,
   "id": "66fd5f88-fb92-4c68-b5cb-e868acdc22ed",
   "metadata": {
    "scrolled": true
   },
   "outputs": [
    {
     "name": "stdout",
     "output_type": "stream",
     "text": [
      "Calculating PHATE...\n",
      "  Running PHATE on 1416 observations and 128 variables.\n",
      "  Calculating graph and diffusion operator...\n",
      "    Calculating PCA...\n",
      "    Calculated PCA in 0.11 seconds.\n",
      "    Calculating KNN search...\n",
      "    Calculated KNN search in 0.18 seconds.\n",
      "    Calculating affinities...\n",
      "    Calculated affinities in 0.01 seconds.\n",
      "  Calculated graph and diffusion operator in 0.31 seconds.\n",
      "  Calculating optimal t...\n",
      "    Automatically selected t = 27\n",
      "  Calculated optimal t in 0.75 seconds.\n",
      "  Calculating diffusion potential...\n",
      "  Calculated diffusion potential in 0.35 seconds.\n",
      "  Calculating metric MDS...\n",
      "  Calculated metric MDS in 2.21 seconds.\n",
      "Calculated PHATE in 3.62 seconds.\n"
     ]
    }
   ],
   "source": [
    "gene_phate_op = phate.PHATE()\n",
    "gene_phate = gene_phate_op.fit_transform(df_results)"
   ]
  },
  {
   "cell_type": "code",
   "execution_count": 57,
   "id": "005f6e8c-3db3-4fc1-98bd-bc547c465dd0",
   "metadata": {},
   "outputs": [],
   "source": [
    "gene_clusters = np.array(leidenalg.find_partition(gene_phate_op.graph.to_igraph(), \n",
    "                                                  leidenalg.ModularityVertexPartition,\n",
    "                                                  seed=0).membership)\n",
    "gene_clusters = pd.Series(gene_clusters, index=data_hvgs.values)"
   ]
  },
  {
   "cell_type": "code",
   "execution_count": 58,
   "id": "592e6549-8200-4af2-8759-91663ec20a20",
   "metadata": {},
   "outputs": [],
   "source": [
    "localization_score = cdist(uniform.values, df_results.values).reshape(-1,)"
   ]
  },
  {
   "cell_type": "code",
   "execution_count": 60,
   "id": "4086e09b-8a8c-4221-a289-4ea1ec1a1abd",
   "metadata": {},
   "outputs": [],
   "source": [
    "np.savez('./results/SIMBA_gene_embedding.npz', \n",
    "         signal_embedding=df_results.values,\n",
    "         localization_score=localization_score,\n",
    "         genes=data_hvgs.values, clusters=gene_clusters.values)"
   ]
  }
 ],
 "metadata": {
  "kernelspec": {
   "display_name": "Python 3 (ipykernel)",
   "language": "python",
   "name": "python3"
  },
  "language_info": {
   "codemirror_mode": {
    "name": "ipython",
    "version": 3
   },
   "file_extension": ".py",
   "mimetype": "text/x-python",
   "name": "python",
   "nbconvert_exporter": "python",
   "pygments_lexer": "ipython3",
   "version": "3.8.18"
  }
 },
 "nbformat": 4,
 "nbformat_minor": 5
}
