{
 "cells": [
  {
   "cell_type": "code",
   "execution_count": 1,
   "id": "6229a6eb",
   "metadata": {},
   "outputs": [
    {
     "name": "stderr",
     "output_type": "stream",
     "text": [
      "/home/aarthivenkat/.local/lib/python3.8/site-packages/pandas/core/computation/expressions.py:20: UserWarning: Pandas requires version '2.7.3' or newer of 'numexpr' (version '2.7.1' currently installed).\n",
      "  from pandas.core.computation.check import NUMEXPR_INSTALLED\n"
     ]
    }
   ],
   "source": [
    "import leidenalg\n",
    "import scanpy, phate, magic\n",
    "import numpy as np\n",
    "import scprep\n",
    "import matplotlib.pyplot as plt\n",
    "import pandas as pd\n",
    "import sklearn\n",
    "from sklearn.preprocessing import scale\n",
    "import gspa"
   ]
  },
  {
   "cell_type": "code",
   "execution_count": 3,
   "id": "b035ceb0",
   "metadata": {},
   "outputs": [],
   "source": [
    "acute = scanpy.read_h5ad('data/acute_tcells.h5ad')\n",
    "chronic = scanpy.read_h5ad('data/chronic_tcells.h5ad')"
   ]
  },
  {
   "cell_type": "code",
   "execution_count": 4,
   "id": "995823b5",
   "metadata": {},
   "outputs": [],
   "source": [
    "adata = scanpy.concat((acute,chronic))\n",
    "adata.obs['batch'] = adata.obs['batch'].astype('category')"
   ]
  },
  {
   "cell_type": "code",
   "execution_count": 5,
   "id": "196286d6",
   "metadata": {},
   "outputs": [],
   "source": [
    "G_without_regression = phate_op.graph.to_pygsp()"
   ]
  },
  {
   "cell_type": "code",
   "execution_count": 35,
   "id": "9fe02d73",
   "metadata": {},
   "outputs": [],
   "source": [
    "data, data_hvgs = scprep.select.highly_variable_genes(acute.to_df(), acute.var_names, percentile=90)\n",
    "data_hvg = data[data_hvgs]\n",
    "data_hvg = data_hvg / np.linalg.norm(data_hvg, axis=0)"
   ]
  },
  {
   "cell_type": "markdown",
   "id": "b9293097",
   "metadata": {},
   "source": [
    "## Generate GSPA gene embeddings"
   ]
  },
  {
   "cell_type": "code",
   "execution_count": null,
   "id": "76bf6a71-bdb8-4e07-a8bb-c9bb8e68606d",
   "metadata": {},
   "outputs": [],
   "source": [
    "data, data_hvgs = scprep.select.highly_variable_genes(adata.to_df(), adata.var_names, percentile=90)\n",
    "data_hvg = data[data_hvgs]"
   ]
  },
  {
   "cell_type": "code",
   "execution_count": null,
   "id": "1519bbbc-590b-4ec7-874e-9fd5e9edbc2f",
   "metadata": {},
   "outputs": [],
   "source": [
    "gspa_op = gspa.GSPA(graph=phate_op.graph, J=5)\n",
    "gspa_op.build_diffusion_operator()\n",
    "gspa_op.build_wavelet_dictionary()\n",
    "\n",
    "# Embed gene signals from wavelet dictionary\n",
    "gene_signals = data_hvg.T # embed highly variable genes\n",
    "gene_ae, gene_pc = gspa_op.get_gene_embeddings(gene_signals)\n",
    "gene_localization = gspa_op.calculate_localization()\n",
    "np.savez('results/GSPA_QR_without_regression.npz', signal_embedding=gene_ae,\n",
    "         localization_score=gene_localization, genes=data_hvgs.values)"
   ]
  }
 ],
 "metadata": {
  "kernelspec": {
   "display_name": "Python 3 (ipykernel)",
   "language": "python",
   "name": "python3"
  },
  "language_info": {
   "codemirror_mode": {
    "name": "ipython",
    "version": 3
   },
   "file_extension": ".py",
   "mimetype": "text/x-python",
   "name": "python",
   "nbconvert_exporter": "python",
   "pygments_lexer": "ipython3",
   "version": "3.8.18"
  }
 },
 "nbformat": 4,
 "nbformat_minor": 5
}
