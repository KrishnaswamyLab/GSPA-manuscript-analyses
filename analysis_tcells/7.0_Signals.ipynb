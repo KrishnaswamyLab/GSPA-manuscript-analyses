{
 "cells": [
  {
   "cell_type": "code",
   "execution_count": 4,
   "id": "a1b3f3a4",
   "metadata": {},
   "outputs": [],
   "source": [
    "import leidenalg\n",
    "import scanpy, phate\n",
    "import numpy as np\n",
    "import scprep\n",
    "import matplotlib.pyplot as plt\n",
    "import pandas as pd\n",
    "import gspa\n",
    "from scipy.spatial.distance import cdist"
   ]
  },
  {
   "cell_type": "code",
   "execution_count": 7,
   "id": "e68daa3a-adfe-48a0-920f-ca5a0cf93922",
   "metadata": {},
   "outputs": [],
   "source": [
    "acute = scanpy.read_h5ad('data/acute_tcells.h5ad')\n",
    "chronic = scanpy.read_h5ad('data/chronic_tcells.h5ad')\n",
    "adata = scanpy.concat((acute,chronic))\n",
    "adata.obs['batch'] = adata.obs['batch'].astype('category')"
   ]
  },
  {
   "cell_type": "code",
   "execution_count": 8,
   "id": "5b688fe0-99d6-462d-b47b-6bf22e727530",
   "metadata": {},
   "outputs": [],
   "source": [
    "data, data_hvgs = scprep.select.highly_variable_genes(adata.to_df(), adata.var_names, percentile=90)\n",
    "data_hvg = data[data_hvgs]\n",
    "data_hvg = data_hvg / np.linalg.norm(data_hvg, axis=0)"
   ]
  },
  {
   "cell_type": "code",
   "execution_count": 9,
   "id": "f8f6c517-0771-4990-9614-095ac6843203",
   "metadata": {},
   "outputs": [],
   "source": [
    "uniform_signal = np.ones((1, adata.n_obs))\n",
    "uniform_signal = uniform_signal / np.linalg.norm(uniform_signal, axis=1).reshape(-1,1)"
   ]
  },
  {
   "cell_type": "code",
   "execution_count": 10,
   "id": "18c71ab2-790f-4fe9-86b8-1a5a9bd4ae74",
   "metadata": {},
   "outputs": [],
   "source": [
    "signal_reduced = gspa.embedding.svd(data_hvg.T)"
   ]
  },
  {
   "cell_type": "code",
   "execution_count": 12,
   "id": "046ecc6c-3aa1-4832-adcc-11e699b86e06",
   "metadata": {
    "scrolled": true
   },
   "outputs": [
    {
     "name": "stdout",
     "output_type": "stream",
     "text": [
      "Epoch 1/100\n",
      "43/43 [==============================] - 0s 4ms/step - loss: 0.0093 - val_loss: 0.0084\n",
      "Epoch 2/100\n",
      "43/43 [==============================] - 0s 2ms/step - loss: 0.0089 - val_loss: 0.0080\n",
      "Epoch 3/100\n",
      "43/43 [==============================] - 0s 3ms/step - loss: 0.0083 - val_loss: 0.0076\n",
      "Epoch 4/100\n",
      "43/43 [==============================] - 0s 2ms/step - loss: 0.0079 - val_loss: 0.0075\n",
      "Epoch 5/100\n",
      "43/43 [==============================] - 0s 2ms/step - loss: 0.0077 - val_loss: 0.0074\n",
      "Epoch 6/100\n",
      "43/43 [==============================] - 0s 2ms/step - loss: 0.0074 - val_loss: 0.0074\n",
      "Epoch 7/100\n",
      "43/43 [==============================] - 0s 2ms/step - loss: 0.0073 - val_loss: 0.0074\n",
      "Epoch 8/100\n",
      "43/43 [==============================] - 0s 2ms/step - loss: 0.0072 - val_loss: 0.0074\n",
      "Epoch 9/100\n",
      "43/43 [==============================] - 0s 2ms/step - loss: 0.0070 - val_loss: 0.0074\n",
      "Epoch 10/100\n",
      "43/43 [==============================] - 0s 2ms/step - loss: 0.0069 - val_loss: 0.0073\n",
      "Epoch 11/100\n",
      "43/43 [==============================] - 0s 2ms/step - loss: 0.0068 - val_loss: 0.0073\n",
      "Epoch 12/100\n",
      "43/43 [==============================] - 0s 2ms/step - loss: 0.0067 - val_loss: 0.0074\n",
      "Epoch 13/100\n",
      "43/43 [==============================] - 0s 2ms/step - loss: 0.0066 - val_loss: 0.0074\n",
      "Epoch 14/100\n",
      "43/43 [==============================] - 0s 2ms/step - loss: 0.0066 - val_loss: 0.0074\n",
      "Epoch 15/100\n",
      "43/43 [==============================] - 0s 2ms/step - loss: 0.0064 - val_loss: 0.0074\n",
      "Epoch 16/100\n",
      "43/43 [==============================] - 0s 2ms/step - loss: 0.0064 - val_loss: 0.0074\n",
      "Epoch 17/100\n",
      "43/43 [==============================] - 0s 2ms/step - loss: 0.0064 - val_loss: 0.0074\n",
      "Epoch 18/100\n",
      "43/43 [==============================] - 0s 2ms/step - loss: 0.0063 - val_loss: 0.0074\n",
      "Epoch 19/100\n",
      "43/43 [==============================] - 0s 3ms/step - loss: 0.0063 - val_loss: 0.0074\n",
      "Epoch 20/100\n",
      "43/43 [==============================] - 0s 2ms/step - loss: 0.0063 - val_loss: 0.0074\n",
      "Epoch 21/100\n",
      "43/43 [==============================] - 0s 2ms/step - loss: 0.0062 - val_loss: 0.0074\n"
     ]
    }
   ],
   "source": [
    "results = {}\n",
    "results['signal_embedding'] = gspa.embedding.run_ae(signal_reduced)\n",
    "results['localization_score'] = cdist(uniform_signal, data_hvg.T).reshape(-1,)"
   ]
  },
  {
   "cell_type": "markdown",
   "id": "91e6c1a7-f5f1-4848-ac6c-8a4dc1d69ef2",
   "metadata": {},
   "source": [
    "### cluster analysis"
   ]
  },
  {
   "cell_type": "code",
   "execution_count": 13,
   "id": "83aaf27e-d859-49a4-adac-bb3343a2d478",
   "metadata": {},
   "outputs": [
    {
     "name": "stdout",
     "output_type": "stream",
     "text": [
      "Calculating PHATE...\n",
      "  Running PHATE on 1416 observations and 128 variables.\n",
      "  Calculating graph and diffusion operator...\n",
      "    Calculating PCA...\n",
      "    Calculated PCA in 0.25 seconds.\n",
      "    Calculating KNN search...\n",
      "    Calculated KNN search in 0.24 seconds.\n",
      "    Calculating affinities...\n",
      "    Calculated affinities in 0.09 seconds.\n",
      "  Calculated graph and diffusion operator in 0.59 seconds.\n",
      "  Calculating optimal t...\n",
      "    Automatically selected t = 10\n",
      "  Calculated optimal t in 0.52 seconds.\n",
      "  Calculating diffusion potential...\n",
      "  Calculated diffusion potential in 0.14 seconds.\n",
      "  Calculating metric MDS...\n",
      "  Calculated metric MDS in 1.84 seconds.\n",
      "Calculated PHATE in 3.09 seconds.\n"
     ]
    }
   ],
   "source": [
    "gene_phate_op = phate.PHATE(random_state=0)\n",
    "data_phate = gene_phate_op.fit_transform(results['signal_embedding'])"
   ]
  },
  {
   "cell_type": "code",
   "execution_count": 14,
   "id": "913b9c7b-00c1-4dcd-a3f4-39177ad85f52",
   "metadata": {},
   "outputs": [],
   "source": [
    "gene_clusters = np.array(leidenalg.find_partition(gene_phate_op.graph.to_igraph(), \n",
    "                                                  leidenalg.ModularityVertexPartition,\n",
    "                                                  seed=0).membership)\n",
    "gene_clusters = pd.Series(gene_clusters, index=data_hvgs.values)"
   ]
  },
  {
   "cell_type": "code",
   "execution_count": 15,
   "id": "78dffdc4-14d7-4836-84fa-4cd7d11fdfb9",
   "metadata": {},
   "outputs": [],
   "source": [
    "for module in range(gene_clusters.max() + 1):\n",
    "    gene_list = gene_clusters[gene_clusters == module].index\n",
    "    \n",
    "    scanpy.tl.score_genes(adata, gene_list=gene_list,\n",
    "                          random_state=0, score_name=f'GM_{module}_score',\n",
    "                          gene_pool=data_hvgs.values, n_bins=int(len(data_hvgs.values) * 0.25))"
   ]
  },
  {
   "cell_type": "code",
   "execution_count": null,
   "id": "504e4aaa-e2a9-4ef5-b6c3-edf8e9b505ed",
   "metadata": {},
   "outputs": [],
   "source": [
    "np.savez('./results/Signals_gene_embedding.npz', signal_embedding=results['signal_embedding'],\n",
    "         localization_score=results['localization_score'], genes=data_hvgs.values, clusters=gene_clusters.values)"
   ]
  }
 ],
 "metadata": {
  "kernelspec": {
   "display_name": "Python 3 (ipykernel)",
   "language": "python",
   "name": "python3"
  },
  "language_info": {
   "codemirror_mode": {
    "name": "ipython",
    "version": 3
   },
   "file_extension": ".py",
   "mimetype": "text/x-python",
   "name": "python",
   "nbconvert_exporter": "python",
   "pygments_lexer": "ipython3",
   "version": "3.8.18"
  }
 },
 "nbformat": 4,
 "nbformat_minor": 5
}
