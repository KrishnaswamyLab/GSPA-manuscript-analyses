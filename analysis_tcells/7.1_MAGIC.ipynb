{
 "cells": [
  {
   "cell_type": "code",
   "execution_count": 1,
   "id": "a1b3f3a4",
   "metadata": {},
   "outputs": [
    {
     "name": "stderr",
     "output_type": "stream",
     "text": [
      "2024-03-21 17:04:01.475522: I tensorflow/core/util/port.cc:110] oneDNN custom operations are on. You may see slightly different numerical results due to floating-point round-off errors from different computation orders. To turn them off, set the environment variable `TF_ENABLE_ONEDNN_OPTS=0`.\n",
      "2024-03-21 17:04:01.477383: I tensorflow/tsl/cuda/cudart_stub.cc:28] Could not find cuda drivers on your machine, GPU will not be used.\n",
      "2024-03-21 17:04:01.516420: I tensorflow/tsl/cuda/cudart_stub.cc:28] Could not find cuda drivers on your machine, GPU will not be used.\n",
      "2024-03-21 17:04:01.517272: I tensorflow/core/platform/cpu_feature_guard.cc:182] This TensorFlow binary is optimized to use available CPU instructions in performance-critical operations.\n",
      "To enable the following instructions: AVX2 AVX512F AVX512_VNNI FMA, in other operations, rebuild TensorFlow with the appropriate compiler flags.\n",
      "2024-03-21 17:04:07.885447: W tensorflow/compiler/tf2tensorrt/utils/py_utils.cc:38] TF-TRT Warning: Could not find TensorRT\n"
     ]
    }
   ],
   "source": [
    "import leidenalg\n",
    "import scanpy, phate\n",
    "import numpy as np\n",
    "import scprep\n",
    "import matplotlib.pyplot as plt\n",
    "import pandas as pd\n",
    "import gspa\n",
    "import magic\n",
    "from scipy.spatial.distance import cdist"
   ]
  },
  {
   "cell_type": "code",
   "execution_count": 2,
   "id": "e68daa3a-adfe-48a0-920f-ca5a0cf93922",
   "metadata": {},
   "outputs": [],
   "source": [
    "acute = scanpy.read_h5ad('data/acute_tcells.h5ad')\n",
    "chronic = scanpy.read_h5ad('data/chronic_tcells.h5ad')\n",
    "adata = scanpy.concat((acute,chronic))\n",
    "adata.obs['batch'] = adata.obs['batch'].astype('category')"
   ]
  },
  {
   "cell_type": "code",
   "execution_count": 3,
   "id": "35662c3d-798b-4a30-a7bf-6840aba93799",
   "metadata": {},
   "outputs": [
    {
     "name": "stdout",
     "output_type": "stream",
     "text": [
      "Calculating PHATE...\n",
      "  Running PHATE on 39704 observations and 14152 variables.\n",
      "  Calculating graph and diffusion operator...\n",
      "    Calculating PCA...\n",
      "    Calculated PCA in 39.26 seconds.\n",
      "    Calculating KNN search...\n",
      "    Calculated KNN search in 273.00 seconds.\n",
      "    Calculating affinities...\n",
      "    Calculated affinities in 36.68 seconds.\n",
      "  Calculated graph and diffusion operator in 350.87 seconds.\n",
      "  Calculating landmark operator...\n",
      "    Calculating SVD...\n",
      "    Calculated SVD in 38.37 seconds.\n",
      "    Calculating KMeans...\n",
      "    Calculated KMeans in 14.77 seconds.\n",
      "  Calculated landmark operator in 57.19 seconds.\n",
      "  Calculating optimal t...\n",
      "    Automatically selected t = 20\n",
      "  Calculated optimal t in 5.70 seconds.\n",
      "  Calculating diffusion potential...\n",
      "  Calculated diffusion potential in 1.40 seconds.\n",
      "  Calculating metric MDS...\n",
      "  Calculated metric MDS in 10.48 seconds.\n",
      "Calculated PHATE in 425.67 seconds.\n"
     ]
    }
   ],
   "source": [
    "phate_op = phate.PHATE(random_state=42, n_jobs=-1, knn=30)\n",
    "adata.obsm['X_phate'] = phate_op.fit_transform(adata.to_df())"
   ]
  },
  {
   "cell_type": "code",
   "execution_count": 4,
   "id": "5b688fe0-99d6-462d-b47b-6bf22e727530",
   "metadata": {},
   "outputs": [],
   "source": [
    "data, data_hvgs = scprep.select.highly_variable_genes(adata.to_df(), adata.var_names, percentile=90)\n",
    "data_hvg = data[data_hvgs]\n",
    "data_hvg = data_hvg / np.linalg.norm(data_hvg, axis=0)"
   ]
  },
  {
   "cell_type": "code",
   "execution_count": 5,
   "id": "f8f6c517-0771-4990-9614-095ac6843203",
   "metadata": {},
   "outputs": [],
   "source": [
    "uniform_signal = np.ones((1, adata.n_obs))\n",
    "uniform_signal = uniform_signal / np.linalg.norm(uniform_signal, axis=1).reshape(-1,1)"
   ]
  },
  {
   "cell_type": "code",
   "execution_count": 6,
   "id": "4916f3e9-c2e7-4d9b-8ae3-bcbb876dc2b3",
   "metadata": {},
   "outputs": [],
   "source": [
    "results = {}\n",
    "magic_op = magic.MAGIC()\n",
    "magic_op.graph = phate_op.graph.to_pygsp()\n",
    "cell_dictionary = magic_op.diff_op.todense()"
   ]
  },
  {
   "cell_type": "code",
   "execution_count": 9,
   "id": "046ecc6c-3aa1-4832-adcc-11e699b86e06",
   "metadata": {
    "scrolled": true
   },
   "outputs": [
    {
     "name": "stderr",
     "output_type": "stream",
     "text": [
      "2024-03-21 17:17:28.175866: E tensorflow/compiler/xla/stream_executor/cuda/cuda_driver.cc:268] failed call to cuInit: CUDA_ERROR_NO_DEVICE: no CUDA-capable device is detected\n"
     ]
    },
    {
     "name": "stdout",
     "output_type": "stream",
     "text": [
      "Epoch 1/100\n",
      "43/43 [==============================] - 2s 27ms/step - loss: 0.0015 - val_loss: 0.0010\n",
      "Epoch 2/100\n",
      "43/43 [==============================] - 1s 16ms/step - loss: 6.7313e-04 - val_loss: 5.6411e-04\n",
      "Epoch 3/100\n",
      "43/43 [==============================] - 0s 7ms/step - loss: 4.5315e-04 - val_loss: 4.5827e-04\n",
      "Epoch 4/100\n",
      "43/43 [==============================] - 0s 10ms/step - loss: 3.6756e-04 - val_loss: 3.9821e-04\n",
      "Epoch 5/100\n",
      "43/43 [==============================] - 0s 7ms/step - loss: 3.2841e-04 - val_loss: 3.5193e-04\n",
      "Epoch 6/100\n",
      "43/43 [==============================] - 0s 6ms/step - loss: 2.9103e-04 - val_loss: 3.3258e-04\n",
      "Epoch 7/100\n",
      "43/43 [==============================] - 1s 17ms/step - loss: 2.6508e-04 - val_loss: 3.4386e-04\n",
      "Epoch 8/100\n",
      "43/43 [==============================] - 0s 6ms/step - loss: 2.8261e-04 - val_loss: 3.0662e-04\n",
      "Epoch 9/100\n",
      "43/43 [==============================] - 0s 6ms/step - loss: 2.4429e-04 - val_loss: 2.8101e-04\n",
      "Epoch 10/100\n",
      "43/43 [==============================] - 0s 6ms/step - loss: 2.1894e-04 - val_loss: 2.7759e-04\n",
      "Epoch 11/100\n",
      "43/43 [==============================] - 0s 6ms/step - loss: 2.1717e-04 - val_loss: 2.6490e-04\n",
      "Epoch 12/100\n",
      "43/43 [==============================] - 0s 6ms/step - loss: 2.0010e-04 - val_loss: 2.7432e-04\n",
      "Epoch 13/100\n",
      "43/43 [==============================] - 0s 4ms/step - loss: 2.1058e-04 - val_loss: 2.5121e-04\n",
      "Epoch 14/100\n",
      "43/43 [==============================] - 0s 7ms/step - loss: 1.8995e-04 - val_loss: 2.3932e-04\n",
      "Epoch 15/100\n",
      "43/43 [==============================] - 0s 5ms/step - loss: 1.8455e-04 - val_loss: 2.4109e-04\n",
      "Epoch 16/100\n",
      "43/43 [==============================] - 0s 4ms/step - loss: 1.7928e-04 - val_loss: 2.4171e-04\n",
      "Epoch 17/100\n",
      "43/43 [==============================] - 0s 4ms/step - loss: 1.7764e-04 - val_loss: 2.3420e-04\n",
      "Epoch 18/100\n",
      "43/43 [==============================] - 0s 4ms/step - loss: 1.7184e-04 - val_loss: 2.2938e-04\n",
      "Epoch 19/100\n",
      "43/43 [==============================] - 0s 5ms/step - loss: 1.6747e-04 - val_loss: 2.2494e-04\n",
      "Epoch 20/100\n",
      "43/43 [==============================] - 0s 6ms/step - loss: 1.6369e-04 - val_loss: 2.2081e-04\n",
      "Epoch 21/100\n",
      "43/43 [==============================] - 0s 6ms/step - loss: 1.5904e-04 - val_loss: 2.2257e-04\n",
      "Epoch 22/100\n",
      "43/43 [==============================] - 0s 5ms/step - loss: 1.5836e-04 - val_loss: 2.2517e-04\n",
      "Epoch 23/100\n",
      "43/43 [==============================] - 0s 5ms/step - loss: 1.6055e-04 - val_loss: 2.2052e-04\n",
      "Epoch 24/100\n",
      "43/43 [==============================] - 0s 8ms/step - loss: 1.5662e-04 - val_loss: 2.1917e-04\n",
      "Epoch 25/100\n",
      "43/43 [==============================] - 0s 5ms/step - loss: 1.5619e-04 - val_loss: 2.2011e-04\n",
      "Epoch 26/100\n",
      "43/43 [==============================] - 0s 7ms/step - loss: 1.5504e-04 - val_loss: 2.1047e-04\n",
      "Epoch 27/100\n",
      "43/43 [==============================] - 0s 6ms/step - loss: 1.4700e-04 - val_loss: 2.1789e-04\n",
      "Epoch 28/100\n",
      "43/43 [==============================] - 0s 8ms/step - loss: 1.5539e-04 - val_loss: 2.1342e-04\n",
      "Epoch 29/100\n",
      "43/43 [==============================] - 0s 9ms/step - loss: 1.4591e-04 - val_loss: 2.1232e-04\n",
      "Epoch 30/100\n",
      "43/43 [==============================] - 0s 11ms/step - loss: 1.4713e-04 - val_loss: 2.0944e-04\n",
      "Epoch 31/100\n",
      "43/43 [==============================] - 0s 6ms/step - loss: 1.4462e-04 - val_loss: 2.1360e-04\n",
      "Epoch 32/100\n",
      "43/43 [==============================] - 0s 5ms/step - loss: 1.4674e-04 - val_loss: 2.0857e-04\n",
      "Epoch 33/100\n",
      "43/43 [==============================] - 0s 6ms/step - loss: 1.4278e-04 - val_loss: 2.1082e-04\n",
      "Epoch 34/100\n",
      "43/43 [==============================] - 0s 6ms/step - loss: 1.4765e-04 - val_loss: 2.0631e-04\n",
      "Epoch 35/100\n",
      "43/43 [==============================] - 0s 5ms/step - loss: 1.4025e-04 - val_loss: 2.1272e-04\n",
      "Epoch 36/100\n",
      "43/43 [==============================] - 0s 7ms/step - loss: 1.4635e-04 - val_loss: 2.0526e-04\n",
      "Epoch 37/100\n",
      "43/43 [==============================] - 0s 6ms/step - loss: 1.3788e-04 - val_loss: 2.0248e-04\n",
      "Epoch 38/100\n",
      "43/43 [==============================] - 0s 7ms/step - loss: 1.3455e-04 - val_loss: 2.0534e-04\n",
      "Epoch 39/100\n",
      "43/43 [==============================] - 0s 6ms/step - loss: 1.3511e-04 - val_loss: 2.0310e-04\n",
      "Epoch 40/100\n",
      "43/43 [==============================] - 1s 13ms/step - loss: 1.3432e-04 - val_loss: 2.0726e-04\n",
      "Epoch 41/100\n",
      "43/43 [==============================] - 0s 5ms/step - loss: 1.4007e-04 - val_loss: 2.0057e-04\n",
      "Epoch 42/100\n",
      "43/43 [==============================] - 0s 5ms/step - loss: 1.3188e-04 - val_loss: 1.9728e-04\n",
      "Epoch 43/100\n",
      "43/43 [==============================] - 0s 7ms/step - loss: 1.3115e-04 - val_loss: 2.0089e-04\n",
      "Epoch 44/100\n",
      "43/43 [==============================] - 1s 12ms/step - loss: 1.3518e-04 - val_loss: 1.9482e-04\n",
      "Epoch 45/100\n",
      "43/43 [==============================] - 0s 7ms/step - loss: 1.2786e-04 - val_loss: 1.9636e-04\n",
      "Epoch 46/100\n",
      "43/43 [==============================] - 0s 5ms/step - loss: 1.2781e-04 - val_loss: 1.9666e-04\n",
      "Epoch 47/100\n",
      "43/43 [==============================] - 0s 5ms/step - loss: 1.2569e-04 - val_loss: 1.9807e-04\n",
      "Epoch 48/100\n",
      "43/43 [==============================] - 1s 16ms/step - loss: 1.2708e-04 - val_loss: 1.9680e-04\n",
      "Epoch 49/100\n",
      "43/43 [==============================] - 1s 15ms/step - loss: 1.2621e-04 - val_loss: 1.9521e-04\n",
      "Epoch 50/100\n",
      "43/43 [==============================] - 0s 7ms/step - loss: 1.2510e-04 - val_loss: 1.9715e-04\n",
      "Epoch 51/100\n",
      "43/43 [==============================] - 0s 5ms/step - loss: 1.2586e-04 - val_loss: 1.9634e-04\n",
      "Epoch 52/100\n",
      "43/43 [==============================] - 0s 9ms/step - loss: 1.2597e-04 - val_loss: 1.9983e-04\n",
      "Epoch 53/100\n",
      "43/43 [==============================] - 0s 8ms/step - loss: 1.2629e-04 - val_loss: 1.9457e-04\n",
      "Epoch 54/100\n",
      "43/43 [==============================] - 1s 20ms/step - loss: 1.2314e-04 - val_loss: 1.9915e-04\n",
      "Epoch 55/100\n",
      "43/43 [==============================] - 0s 5ms/step - loss: 1.3217e-04 - val_loss: 1.9685e-04\n",
      "Epoch 56/100\n",
      "43/43 [==============================] - 0s 8ms/step - loss: 1.2508e-04 - val_loss: 1.9365e-04\n",
      "Epoch 57/100\n",
      "43/43 [==============================] - 0s 6ms/step - loss: 1.2087e-04 - val_loss: 1.9606e-04\n",
      "Epoch 58/100\n",
      "43/43 [==============================] - 0s 10ms/step - loss: 1.2196e-04 - val_loss: 1.9369e-04\n",
      "Epoch 59/100\n",
      "43/43 [==============================] - 0s 9ms/step - loss: 1.1943e-04 - val_loss: 1.9323e-04\n",
      "Epoch 60/100\n",
      "43/43 [==============================] - 0s 7ms/step - loss: 1.1968e-04 - val_loss: 1.9327e-04\n",
      "Epoch 61/100\n",
      "43/43 [==============================] - 0s 8ms/step - loss: 1.1804e-04 - val_loss: 1.9819e-04\n",
      "Epoch 62/100\n",
      "43/43 [==============================] - 0s 11ms/step - loss: 1.2010e-04 - val_loss: 1.9155e-04\n",
      "Epoch 63/100\n",
      "43/43 [==============================] - 0s 11ms/step - loss: 1.1785e-04 - val_loss: 1.9700e-04\n",
      "Epoch 64/100\n",
      "43/43 [==============================] - 0s 10ms/step - loss: 1.2279e-04 - val_loss: 1.9546e-04\n",
      "Epoch 65/100\n",
      "43/43 [==============================] - 1s 12ms/step - loss: 1.1673e-04 - val_loss: 1.9434e-04\n",
      "Epoch 66/100\n",
      "43/43 [==============================] - 0s 7ms/step - loss: 1.1946e-04 - val_loss: 2.0344e-04\n",
      "Epoch 67/100\n",
      "43/43 [==============================] - 0s 11ms/step - loss: 1.3367e-04 - val_loss: 2.0937e-04\n",
      "Epoch 68/100\n",
      "43/43 [==============================] - 0s 10ms/step - loss: 1.4063e-04 - val_loss: 2.0502e-04\n",
      "Epoch 69/100\n",
      "43/43 [==============================] - 0s 11ms/step - loss: 1.2518e-04 - val_loss: 2.0063e-04\n",
      "Epoch 70/100\n",
      "43/43 [==============================] - 0s 6ms/step - loss: 1.2529e-04 - val_loss: 1.9750e-04\n",
      "Epoch 71/100\n",
      "43/43 [==============================] - 0s 6ms/step - loss: 1.2134e-04 - val_loss: 1.9895e-04\n",
      "Epoch 72/100\n",
      "43/43 [==============================] - 0s 6ms/step - loss: 1.2299e-04 - val_loss: 1.9698e-04\n"
     ]
    }
   ],
   "source": [
    "signals_projected = gspa.embedding.project(data_hvg.T, cell_dictionary)\n",
    "signals_reduced = gspa.embedding.svd(signals_projected)\n",
    "results['signal_embedding'] = gspa.embedding.run_ae(signals_reduced)\n",
    "uniform_projected = gspa.embedding.project(uniform_signal, cell_dictionary)\n",
    "results['localization_score'] = cdist(uniform_projected, signals_projected).reshape(-1,)"
   ]
  },
  {
   "cell_type": "markdown",
   "id": "91e6c1a7-f5f1-4848-ac6c-8a4dc1d69ef2",
   "metadata": {},
   "source": [
    "### cluster analysis"
   ]
  },
  {
   "cell_type": "code",
   "execution_count": 10,
   "id": "83aaf27e-d859-49a4-adac-bb3343a2d478",
   "metadata": {},
   "outputs": [
    {
     "name": "stdout",
     "output_type": "stream",
     "text": [
      "Calculating PHATE...\n",
      "  Running PHATE on 1416 observations and 128 variables.\n",
      "  Calculating graph and diffusion operator...\n",
      "    Calculating PCA...\n",
      "    Calculated PCA in 0.18 seconds.\n",
      "    Calculating KNN search...\n",
      "    Calculated KNN search in 0.42 seconds.\n",
      "    Calculating affinities...\n",
      "    Calculated affinities in 0.03 seconds.\n",
      "  Calculated graph and diffusion operator in 0.65 seconds.\n",
      "  Calculating optimal t...\n",
      "    Automatically selected t = 21\n",
      "  Calculated optimal t in 1.75 seconds.\n",
      "  Calculating diffusion potential...\n",
      "  Calculated diffusion potential in 0.60 seconds.\n",
      "  Calculating metric MDS...\n",
      "  Calculated metric MDS in 2.56 seconds.\n",
      "Calculated PHATE in 5.60 seconds.\n"
     ]
    }
   ],
   "source": [
    "gene_phate_op = phate.PHATE(random_state=0)\n",
    "data_phate = gene_phate_op.fit_transform(results['signal_embedding'])"
   ]
  },
  {
   "cell_type": "code",
   "execution_count": 11,
   "id": "913b9c7b-00c1-4dcd-a3f4-39177ad85f52",
   "metadata": {},
   "outputs": [],
   "source": [
    "gene_clusters = np.array(leidenalg.find_partition(gene_phate_op.graph.to_igraph(), \n",
    "                                                  leidenalg.ModularityVertexPartition,\n",
    "                                                  seed=0).membership)\n",
    "gene_clusters = pd.Series(gene_clusters, index=data_hvgs.values)"
   ]
  },
  {
   "cell_type": "code",
   "execution_count": 12,
   "id": "504e4aaa-e2a9-4ef5-b6c3-edf8e9b505ed",
   "metadata": {},
   "outputs": [],
   "source": [
    "np.savez('./results/MAGIC_gene_embedding.npz', \n",
    "         signal_embedding=results['signal_embedding'],\n",
    "         localization_score=results['localization_score'],\n",
    "         genes=data_hvgs.values, clusters=gene_clusters.values)"
   ]
  }
 ],
 "metadata": {
  "kernelspec": {
   "display_name": "Python 3 (ipykernel)",
   "language": "python",
   "name": "python3"
  },
  "language_info": {
   "codemirror_mode": {
    "name": "ipython",
    "version": 3
   },
   "file_extension": ".py",
   "mimetype": "text/x-python",
   "name": "python",
   "nbconvert_exporter": "python",
   "pygments_lexer": "ipython3",
   "version": "3.8.18"
  }
 },
 "nbformat": 4,
 "nbformat_minor": 5
}
