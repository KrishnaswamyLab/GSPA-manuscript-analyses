{
 "cells": [
  {
   "cell_type": "code",
   "execution_count": 2,
   "id": "46240718",
   "metadata": {},
   "outputs": [],
   "source": [
    "import scanpy\n",
    "import pandas as pd\n",
    "import numpy as np\n",
    "import phate\n",
    "import gspa\n",
    "import seaborn as sns"
   ]
  },
  {
   "cell_type": "code",
   "execution_count": 3,
   "id": "ef59179d",
   "metadata": {},
   "outputs": [
    {
     "name": "stderr",
     "output_type": "stream",
     "text": [
      "/gpfs/gibbs/project/krishnaswamy_smita/av622/conda_envs/gspa/lib/python3.8/site-packages/anndata/compat/__init__.py:232: FutureWarning: Moving element from .uns['neighbors']['distances'] to .obsp['distances'].\n",
      "\n",
      "This is where adjacency matrices should go now.\n",
      "  warn(\n"
     ]
    }
   ],
   "source": [
    "data_int = scanpy.read_h5ad('data/int.h5ad')\n",
    "data_gc = scanpy.read_h5ad('data/GC.h5ad')\n",
    "hits = data_gc.to_df()\n",
    "hits.columns = [x.split('-')[0] for x in data_gc.var_names]\n",
    "hits = hits.groupby(axis=1, level=0).sum()\n",
    "guide_hit_signal = hits.columns[np.where(hits.values > 0)[1]]\n",
    "guides = hits.columns"
   ]
  },
  {
   "cell_type": "code",
   "execution_count": null,
   "id": "327aee84-87a8-47ee-9d27-b7f7e317a8ed",
   "metadata": {},
   "outputs": [],
   "source": [
    "for guide in guides:\n",
    "    data = data_int[guide_hit_signal == guide].to_df()\n",
    "    # get graph of cells for hit\n",
    "    phate_op = phate.PHATE(random_state=42, n_jobs=-1, knn=30, verbose=False)\n",
    "    NEG_phate = phate_op.fit_transform(data)\n",
    "    G = phate_op.graph.to_pygsp()\n",
    "    \n",
    "    # get cell dictionary\n",
    "    gspa_op = gspa.GSPA(graph=G)\n",
    "    gspa_op.build_diffusion_operator()\n",
    "    gspa_op.build_wavelet_dictionary()\n",
    "    \n",
    "    # Get signals with norm > 0\n",
    "    data = data.iloc[:, np.linalg.norm(data, axis=0) > 0]\n",
    "\n",
    "    # get signal embedding\n",
    "    signals_projected = gspa_op.embedding.project(data.T, gspa_op.wavelet_dictionary)\n",
    "    signals_reduced = gspa_op.embedding.svd(signals_projected)\n",
    "    gene_localization = gspa_op.calculate_localization()\n",
    "    \n",
    "    # save\n",
    "    results = {}\n",
    "    results['signal_embedding'] = signals_reduced[:, :5]\n",
    "    results['localization_score'] = gene_localization\n",
    "    np.savez(f'results/{guide}_GSPA.npz', signal_embedding=results['signal_embedding'],\n",
    "             localization_score=results['localization_score'], genes=data.columns.values)"
   ]
  }
 ],
 "metadata": {
  "kernelspec": {
   "display_name": "Python 3 (ipykernel)",
   "language": "python",
   "name": "python3"
  },
  "language_info": {
   "codemirror_mode": {
    "name": "ipython",
    "version": 3
   },
   "file_extension": ".py",
   "mimetype": "text/x-python",
   "name": "python",
   "nbconvert_exporter": "python",
   "pygments_lexer": "ipython3",
   "version": "3.8.18"
  }
 },
 "nbformat": 4,
 "nbformat_minor": 5
}
