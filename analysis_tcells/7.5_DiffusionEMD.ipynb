{
 "cells": [
  {
   "cell_type": "code",
   "execution_count": 7,
   "id": "a1b3f3a4",
   "metadata": {},
   "outputs": [
    {
     "name": "stderr",
     "output_type": "stream",
     "text": [
      "No GPU/TPU found, falling back to CPU. (Set TF_CPP_MIN_LOG_LEVEL=0 and rerun for more info.)\n",
      "2024-03-21 18:10:01.626160: E tensorflow/compiler/xla/stream_executor/cuda/cuda_driver.cc:268] failed call to cuInit: CUDA_ERROR_NO_DEVICE: no CUDA-capable device is detected\n",
      "/gpfs/gibbs/project/krishnaswamy_smita/av622/conda_envs/gspa/lib/python3.8/site-packages/ot/backend.py:2998: UserWarning: To use TensorflowBackend, you need to activate the tensorflow numpy API. You can activate it by running: \n",
      "from tensorflow.python.ops.numpy_ops import np_config\n",
      "np_config.enable_numpy_behavior()\n",
      "  register_backend(TensorflowBackend())\n"
     ]
    }
   ],
   "source": [
    "import leidenalg\n",
    "import scanpy, phate\n",
    "import numpy as np\n",
    "import scprep\n",
    "import pandas as pd\n",
    "import gspa\n",
    "from DiffusionEMD import DiffusionCheb"
   ]
  },
  {
   "cell_type": "code",
   "execution_count": 12,
   "id": "06c2c772-432a-4cb3-a4e9-2d23f75c3871",
   "metadata": {},
   "outputs": [],
   "source": [
    "from types import SimpleNamespace\n",
    "config_args = {\n",
    "    'lr': (0.001, 'learning rate'),\n",
    "        'dropout': (0.0, 'dropout probability'),\n",
    "        'epochs': (100, 'maximum number of epochs to train for'),\n",
    "        'weight_decay': (0., 'l2 regularization strength'),\n",
    "        'patience': (10, 'patience for early stopping'),\n",
    "        'min_epochs': (50, 'do not early stop before min_epochs'),\n",
    "        'seed': (1234, 'seed for training'),\n",
    "        'walk_length': (80, 'walk length for Node2Vec'),\n",
    "        'num_walks': (10, 'number of walks for Node2Vec'),\n",
    "        'task': ('localization', 'task for paper, can be any of [coexpression, localization]'),\n",
    "        'verbose': (1, 'verbosity, of [0, 1, 2]'),\n",
    "        'add_pseudotime': (0, 'whether to add time signal (1) or not (0)'),\n",
    "        'model': ('GSPA', 'which model to use, can be one of [Signals, DiffusionEMD, GFMMD, GSPA, GSPA_QR, MAGIC, Node2Vec_Gcell, GAE_noatt_Gcell, GAE_att_Gcell, Node2Vec_Ggene, GAE_noatt_Ggene, GAE_att_Ggene]'),\n",
    "        'dim': (128, 'embedding dimension'),\n",
    "        'num_layers': (2, 'number of hidden layers in encoder'),\n",
    "        'bias': (1, 'whether to use bias (1) or not (0)'),\n",
    "        'act': ('relu', 'which activation function to use of [relu, tanh, None]'),\n",
    "        'k_neighbors_gene': (5, 'default number of neighbors k for kNN gene graph construction'),\n",
    "        'device': ('cpu', 'Device for model'),\n",
    "        'val_prop': (0.05, 'proportion of validation'),\n",
    "        'test_prop': (0.0, 'proportion of test'),\n",
    "        'split_seed': (1234, 'seed for data splits (train/test/val)'),\n",
    "        'save_as': ('0', 'name for embedding iteration'),\n",
    "        'k_neighbors_cell': (5, 'default number of neighbors k for kNN cell graph construction'),\n",
    "        'kernel': ('adaptive', 'which kernel to use, can be one of [adaptive, kNN, SNN]'),\n",
    "        'J': (-1, 'maximum scale for GSPA or GSPA_QR, by default int(log(N))')\n",
    "}\n",
    "config_args = pd.DataFrame([x[0] for x in config_args.values()], config_args.keys())[0].to_dict()\n",
    "args = SimpleNamespace(**config_args, )"
   ]
  },
  {
   "cell_type": "code",
   "execution_count": 2,
   "id": "e68daa3a-adfe-48a0-920f-ca5a0cf93922",
   "metadata": {},
   "outputs": [],
   "source": [
    "acute = scanpy.read_h5ad('data/acute_tcells.h5ad')\n",
    "chronic = scanpy.read_h5ad('data/chronic_tcells.h5ad')\n",
    "adata = scanpy.concat((acute,chronic))\n",
    "adata.obs['batch'] = adata.obs['batch'].astype('category')"
   ]
  },
  {
   "cell_type": "code",
   "execution_count": 3,
   "id": "35662c3d-798b-4a30-a7bf-6840aba93799",
   "metadata": {},
   "outputs": [
    {
     "name": "stdout",
     "output_type": "stream",
     "text": [
      "Calculating PHATE...\n",
      "  Running PHATE on 39704 observations and 14152 variables.\n",
      "  Calculating graph and diffusion operator...\n",
      "    Calculating PCA...\n",
      "    Calculated PCA in 52.29 seconds.\n",
      "    Calculating KNN search...\n",
      "    Calculated KNN search in 438.76 seconds.\n",
      "    Calculating affinities...\n",
      "    Calculated affinities in 53.38 seconds.\n",
      "  Calculated graph and diffusion operator in 548.31 seconds.\n",
      "  Calculating landmark operator...\n",
      "    Calculating SVD...\n",
      "    Calculated SVD in 68.45 seconds.\n",
      "    Calculating KMeans...\n",
      "    Calculated KMeans in 20.17 seconds.\n",
      "  Calculated landmark operator in 94.37 seconds.\n",
      "  Calculating optimal t...\n",
      "    Automatically selected t = 20\n",
      "  Calculated optimal t in 7.96 seconds.\n",
      "  Calculating diffusion potential...\n",
      "  Calculated diffusion potential in 2.38 seconds.\n",
      "  Calculating metric MDS...\n",
      "  Calculated metric MDS in 14.67 seconds.\n",
      "Calculated PHATE in 667.75 seconds.\n"
     ]
    }
   ],
   "source": [
    "phate_op = phate.PHATE(random_state=42, n_jobs=-1, knn=30)\n",
    "adata.obsm['X_phate'] = phate_op.fit_transform(adata.to_df())"
   ]
  },
  {
   "cell_type": "code",
   "execution_count": 4,
   "id": "5b688fe0-99d6-462d-b47b-6bf22e727530",
   "metadata": {},
   "outputs": [],
   "source": [
    "data, data_hvgs = scprep.select.highly_variable_genes(adata.to_df(), adata.var_names, percentile=90)\n",
    "data_hvg = data[data_hvgs]\n",
    "data_hvg = data_hvg / np.linalg.norm(data_hvg, axis=0)"
   ]
  },
  {
   "cell_type": "code",
   "execution_count": 5,
   "id": "f8f6c517-0771-4990-9614-095ac6843203",
   "metadata": {},
   "outputs": [],
   "source": [
    "uniform_signal = np.ones((1, adata.n_obs))\n",
    "uniform_signal = uniform_signal / np.linalg.norm(uniform_signal, axis=1).reshape(-1,1)"
   ]
  },
  {
   "cell_type": "code",
   "execution_count": 6,
   "id": "e4e638b8-a596-4dd0-b698-63bdf7141d00",
   "metadata": {},
   "outputs": [],
   "source": [
    "signals_t = data_hvg.values\n",
    "signal_prob = signals_t\n",
    "signal_prob = signals_t / signals_t.sum(axis=0)\n",
    "uniform_signal_t = uniform_signal.reshape(-1, 1)\n",
    "uniform_prob = uniform_signal_t / uniform_signal_t.sum(axis=0)"
   ]
  },
  {
   "cell_type": "code",
   "execution_count": 8,
   "id": "4916f3e9-c2e7-4d9b-8ae3-bcbb876dc2b3",
   "metadata": {},
   "outputs": [],
   "source": [
    "results = {}\n",
    "\n",
    "dc_op = DiffusionCheb()\n",
    "signal_representation = dc_op.fit_transform(phate_op.graph.to_pygsp().A, np.hstack((signal_prob, uniform_prob)))\n",
    "uniform_representation = signal_representation[-1]\n",
    "signal_representation = signal_representation[:-1]\n",
    "results['localization_score'] = cdist(uniform_representation, signal_representation, metric='cityblock').reshape(-1,)"
   ]
  },
  {
   "cell_type": "code",
   "execution_count": null,
   "id": "e26088ca-32b5-42da-8ffe-91e4e10b031d",
   "metadata": {},
   "outputs": [],
   "source": [
    "signal_reduced = gspa.embedding.svd(signal_representation)\n",
    "results['signal_embedding'] = gspa.embedding.run_ae(signal_reduced, args)"
   ]
  },
  {
   "cell_type": "markdown",
   "id": "91e6c1a7-f5f1-4848-ac6c-8a4dc1d69ef2",
   "metadata": {},
   "source": [
    "### cluster analysis"
   ]
  },
  {
   "cell_type": "code",
   "execution_count": null,
   "id": "83aaf27e-d859-49a4-adac-bb3343a2d478",
   "metadata": {},
   "outputs": [],
   "source": [
    "gene_phate_op = phate.PHATE(random_state=0)\n",
    "data_phate = gene_phate_op.fit_transform(results['signal_embedding'])"
   ]
  },
  {
   "cell_type": "code",
   "execution_count": null,
   "id": "913b9c7b-00c1-4dcd-a3f4-39177ad85f52",
   "metadata": {},
   "outputs": [],
   "source": [
    "gene_clusters = np.array(leidenalg.find_partition(gene_phate_op.graph.to_igraph(), \n",
    "                                                  leidenalg.ModularityVertexPartition,\n",
    "                                                  seed=0).membership)\n",
    "gene_clusters = pd.Series(gene_clusters, index=data_hvgs.values)"
   ]
  },
  {
   "cell_type": "code",
   "execution_count": null,
   "id": "504e4aaa-e2a9-4ef5-b6c3-edf8e9b505ed",
   "metadata": {},
   "outputs": [],
   "source": [
    "np.savez('./results/DiffusionEMD_gene_embedding.npz', \n",
    "         signal_embedding=results['signal_embedding'],\n",
    "         localization_score=results['localization_score'],\n",
    "         genes=data_hvgs.values, clusters=gene_clusters.values)"
   ]
  }
 ],
 "metadata": {
  "kernelspec": {
   "display_name": "Python 3 (ipykernel)",
   "language": "python",
   "name": "python3"
  },
  "language_info": {
   "codemirror_mode": {
    "name": "ipython",
    "version": 3
   },
   "file_extension": ".py",
   "mimetype": "text/x-python",
   "name": "python",
   "nbconvert_exporter": "python",
   "pygments_lexer": "ipython3",
   "version": "3.8.18"
  }
 },
 "nbformat": 4,
 "nbformat_minor": 5
}
