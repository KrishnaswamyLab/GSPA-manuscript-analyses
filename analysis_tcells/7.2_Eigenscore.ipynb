{
 "cells": [
  {
   "cell_type": "code",
   "execution_count": 6,
   "id": "a1b3f3a4",
   "metadata": {},
   "outputs": [],
   "source": [
    "import leidenalg\n",
    "import scanpy, phate\n",
    "import numpy as np\n",
    "import scprep\n",
    "import pandas as pd\n",
    "import gspa\n",
    "from run.run_eigenscore import run_eigenscore"
   ]
  },
  {
   "cell_type": "code",
   "execution_count": 2,
   "id": "e68daa3a-adfe-48a0-920f-ca5a0cf93922",
   "metadata": {},
   "outputs": [],
   "source": [
    "acute = scanpy.read_h5ad('data/acute_tcells.h5ad')\n",
    "chronic = scanpy.read_h5ad('data/chronic_tcells.h5ad')\n",
    "adata = scanpy.concat((acute,chronic))\n",
    "adata.obs['batch'] = adata.obs['batch'].astype('category')"
   ]
  },
  {
   "cell_type": "code",
   "execution_count": 3,
   "id": "35662c3d-798b-4a30-a7bf-6840aba93799",
   "metadata": {},
   "outputs": [
    {
     "name": "stdout",
     "output_type": "stream",
     "text": [
      "Calculating PHATE...\n",
      "  Running PHATE on 39704 observations and 14152 variables.\n",
      "  Calculating graph and diffusion operator...\n",
      "    Calculating PCA...\n",
      "    Calculated PCA in 16.43 seconds.\n",
      "    Calculating KNN search...\n",
      "    Calculated KNN search in 116.81 seconds.\n",
      "    Calculating affinities...\n",
      "    Calculated affinities in 11.53 seconds.\n",
      "  Calculated graph and diffusion operator in 145.95 seconds.\n",
      "  Calculating landmark operator...\n",
      "    Calculating SVD...\n",
      "    Calculated SVD in 14.66 seconds.\n",
      "    Calculating KMeans...\n",
      "    Calculated KMeans in 4.25 seconds.\n",
      "  Calculated landmark operator in 20.77 seconds.\n",
      "  Calculating optimal t...\n",
      "    Automatically selected t = 20\n",
      "  Calculated optimal t in 1.67 seconds.\n",
      "  Calculating diffusion potential...\n",
      "  Calculated diffusion potential in 0.49 seconds.\n",
      "  Calculating metric MDS...\n",
      "  Calculated metric MDS in 3.92 seconds.\n",
      "Calculated PHATE in 172.82 seconds.\n"
     ]
    }
   ],
   "source": [
    "phate_op = phate.PHATE(random_state=42, n_jobs=-1, knn=30)\n",
    "adata.obsm['X_phate'] = phate_op.fit_transform(adata.to_df())"
   ]
  },
  {
   "cell_type": "code",
   "execution_count": 4,
   "id": "5b688fe0-99d6-462d-b47b-6bf22e727530",
   "metadata": {},
   "outputs": [],
   "source": [
    "data, data_hvgs = scprep.select.highly_variable_genes(adata.to_df(), adata.var_names, percentile=90)\n",
    "data_hvg = data[data_hvgs]\n",
    "data_hvg = data_hvg / np.linalg.norm(data_hvg, axis=0)"
   ]
  },
  {
   "cell_type": "code",
   "execution_count": 5,
   "id": "f8f6c517-0771-4990-9614-095ac6843203",
   "metadata": {},
   "outputs": [],
   "source": [
    "uniform_signal = np.ones((1, adata.n_obs))\n",
    "uniform_signal = uniform_signal / np.linalg.norm(uniform_signal, axis=1).reshape(-1,1)"
   ]
  },
  {
   "cell_type": "code",
   "execution_count": null,
   "id": "4916f3e9-c2e7-4d9b-8ae3-bcbb876dc2b3",
   "metadata": {},
   "outputs": [
    {
     "name": "stderr",
     "output_type": "stream",
     "text": [
      "2024-03-21 17:03:19,242:[WARNING](pygsp.graphs.graph._check_fourier_properties): The Fourier basis G.U is not available, we need to compute the Fourier basis. Explicitly call G.compute_fourier_basis() once beforehand to suppress the warning.\n",
      "2024-03-21 17:03:19,243:[WARNING](pygsp.graphs.graph.compute_fourier_basis): Computing the full eigendecomposition of a large matrix (39704 x 39704) may take some time.\n"
     ]
    }
   ],
   "source": [
    "results = {}\n",
    "signal_representation = run_eigenscore(phate_op.graph.to_pygsp(), data_hvg.T, args=None)\n",
    "signal_reduced = gspa.embedding.svd(signal_representation)"
   ]
  },
  {
   "cell_type": "code",
   "execution_count": null,
   "id": "35e910aa-1c86-4e50-a72c-99c58ddf3fce",
   "metadata": {},
   "outputs": [],
   "source": [
    "results['signal_embedding'] = gspa.embedding.run_ae(signal_reduced)\n",
    "results['localization_score'] = np.linalg.norm(signal_representation, axis=1)"
   ]
  },
  {
   "cell_type": "markdown",
   "id": "91e6c1a7-f5f1-4848-ac6c-8a4dc1d69ef2",
   "metadata": {},
   "source": [
    "### cluster analysis"
   ]
  },
  {
   "cell_type": "code",
   "execution_count": null,
   "id": "83aaf27e-d859-49a4-adac-bb3343a2d478",
   "metadata": {},
   "outputs": [],
   "source": [
    "gene_phate_op = phate.PHATE(random_state=0)\n",
    "data_phate = gene_phate_op.fit_transform(results['signal_embedding'])"
   ]
  },
  {
   "cell_type": "code",
   "execution_count": null,
   "id": "913b9c7b-00c1-4dcd-a3f4-39177ad85f52",
   "metadata": {},
   "outputs": [],
   "source": [
    "gene_clusters = np.array(leidenalg.find_partition(gene_phate_op.graph.to_igraph(), \n",
    "                                                  leidenalg.ModularityVertexPartition,\n",
    "                                                  seed=0).membership)\n",
    "gene_clusters = pd.Series(gene_clusters, index=data_hvgs.values)"
   ]
  },
  {
   "cell_type": "code",
   "execution_count": null,
   "id": "504e4aaa-e2a9-4ef5-b6c3-edf8e9b505ed",
   "metadata": {},
   "outputs": [],
   "source": [
    "np.savez('./results/Eigenscore_gene_embedding.npz', \n",
    "         signal_embedding=results['signal_embedding'],\n",
    "         localization_score=results['localization_score'],\n",
    "         genes=data_hvgs.values, clusters=gene_clusters.values)"
   ]
  }
 ],
 "metadata": {
  "kernelspec": {
   "display_name": "Python 3 (ipykernel)",
   "language": "python",
   "name": "python3"
  },
  "language_info": {
   "codemirror_mode": {
    "name": "ipython",
    "version": 3
   },
   "file_extension": ".py",
   "mimetype": "text/x-python",
   "name": "python",
   "nbconvert_exporter": "python",
   "pygments_lexer": "ipython3",
   "version": "3.8.18"
  }
 },
 "nbformat": 4,
 "nbformat_minor": 5
}
