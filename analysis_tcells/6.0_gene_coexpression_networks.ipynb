{
 "cells": [
  {
   "cell_type": "code",
   "execution_count": 1,
   "id": "a1b3f3a4",
   "metadata": {},
   "outputs": [],
   "source": [
    "import numpy as np\n",
    "import pandas as pd\n",
    "import graphtools\n",
    "import networkx as nx\n",
    "import scanpy, phate, scprep\n",
    "import matplotlib.pyplot as plt\n",
    "import seaborn as sns\n",
    "import magic\n",
    "from sklearn.preprocessing import scale"
   ]
  },
  {
   "cell_type": "code",
   "execution_count": 4,
   "id": "d5a9eb95",
   "metadata": {},
   "outputs": [],
   "source": [
    "df = pd.read_csv('results/gene_summary.csv', index_col=0)\n",
    "results = np.load('results/GSPA_QR_without_regression.npz', allow_pickle=True)\n",
    "df = df.sort_values(['gene_clusters', 'localization_score'], ascending=[True, False])"
   ]
  },
  {
   "cell_type": "code",
   "execution_count": 6,
   "id": "40588b39",
   "metadata": {},
   "outputs": [],
   "source": [
    "for cluster in range(6):\n",
    "    threshold = np.percentile(df[df['gene_clusters'] == cluster]['localization_score'], q=90)\n",
    "    loc_genes = df[(df['gene_clusters'] == cluster) & (df['localization_score'] > threshold)].index\n",
    "    loc_emb = pd.DataFrame(results['signal_embedding'], index=results['genes'])\n",
    "    loc_emb = loc_emb.loc[loc_genes]\n",
    "    \n",
    "    G = nx.Graph(graphtools.Graph(loc_emb, use_pygsp=True, knn=5).A)\n",
    "    G = nx.relabel_nodes(G, dict(zip(range(len(loc_emb)), loc_genes)))\n",
    "    nx.write_edgelist(G, f'results/Cluster_{cluster}_loc_genes.tsv', delimiter='\\t', data=False)"
   ]
  }
 ],
 "metadata": {
  "kernelspec": {
   "display_name": "Python 3 (ipykernel)",
   "language": "python",
   "name": "python3"
  },
  "language_info": {
   "codemirror_mode": {
    "name": "ipython",
    "version": 3
   },
   "file_extension": ".py",
   "mimetype": "text/x-python",
   "name": "python",
   "nbconvert_exporter": "python",
   "pygments_lexer": "ipython3",
   "version": "3.8.18"
  }
 },
 "nbformat": 4,
 "nbformat_minor": 5
}
