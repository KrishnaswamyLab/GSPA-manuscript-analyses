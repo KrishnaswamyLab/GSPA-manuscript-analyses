{
 "cells": [
  {
   "cell_type": "code",
   "execution_count": 1,
   "id": "d09751fa",
   "metadata": {},
   "outputs": [
    {
     "name": "stderr",
     "output_type": "stream",
     "text": [
      "/home/aarthivenkat/.local/lib/python3.8/site-packages/pandas/core/computation/expressions.py:20: UserWarning: Pandas requires version '2.7.3' or newer of 'numexpr' (version '2.7.1' currently installed).\n",
      "  from pandas.core.computation.check import NUMEXPR_INSTALLED\n"
     ]
    }
   ],
   "source": [
    "import scanpy as sc\n",
    "import pandas as pd\n",
    "import numpy as np\n",
    "import networkx as nx\n",
    "import omnipath, graphtools"
   ]
  },
  {
   "cell_type": "code",
   "execution_count": 8,
   "id": "0f008537",
   "metadata": {},
   "outputs": [],
   "source": [
    "results = np.load('results/GSPA_QR.npz', allow_pickle=True)\n",
    "embedding = pd.DataFrame(results['signal_embedding'], index=results['genes'])\n",
    "df = pd.read_csv('results/gene_summary.csv', index_col=0)"
   ]
  },
  {
   "cell_type": "code",
   "execution_count": null,
   "id": "c3f1723d",
   "metadata": {},
   "outputs": [],
   "source": [
    "types = []\n",
    "for cluster in range(df['gene_clusters'].max() + 1):\n",
    "    # get genes in gene cluster\n",
    "    cluster_genes = df[(df['gene_clusters'] == cluster)].index\n",
    "    \n",
    "    # subset to genes in gene cluster also in database\n",
    "    cluster_genes_omnipath = set(cluster_genes).intersection(db_genes)\n",
    "    cluster_emb = embedding.loc[cluster_genes_omnipath]\n",
    "    \n",
    "    #learn KNN graph of genes in gene cluster & in database\n",
    "    G = nx.Graph(graphtools.Graph(cluster_emb, use_pygsp=True, knn=100).A)\n",
    "    G = nx.relabel_nodes(G, dict(zip(range(len(cluster_emb)), cluster_genes_omnipath)))\n",
    "    \n",
    "    # Keep edges that are also in database\n",
    "    edges = []\n",
    "    for row in db[(db['source_genesymbol'].isin(cluster_genes_omnipath)) & (db['target_genesymbol'].isin(cluster_genes_omnipath))].iterrows():\n",
    "        if G.has_edge(row[1]['source_genesymbol'], row[1]['target_genesymbol']):\n",
    "            edges.append(f\"{row[1]['source_genesymbol']}\\t{row[1]['target_genesymbol']}\\t{row[1]['type']}\")\n",
    "            types.append(row[1]['type'])\n",
    "                        \n",
    "    with open(f'results/Cluster_{cluster}_omnipath_genes.tsv', 'w') as f:\n",
    "        for edge in edges:\n",
    "            f.write(f\"{edge}\\n\")"
   ]
  }
 ],
 "metadata": {
  "kernelspec": {
   "display_name": "Python 3 (ipykernel)",
   "language": "python",
   "name": "python3"
  },
  "language_info": {
   "codemirror_mode": {
    "name": "ipython",
    "version": 3
   },
   "file_extension": ".py",
   "mimetype": "text/x-python",
   "name": "python",
   "nbconvert_exporter": "python",
   "pygments_lexer": "ipython3",
   "version": "3.8.18"
  }
 },
 "nbformat": 4,
 "nbformat_minor": 5
}
