{
 "cells": [
  {
   "cell_type": "code",
   "execution_count": 3,
   "id": "88376be5",
   "metadata": {},
   "outputs": [],
   "source": [
    "import scanpy as sc\n",
    "import scprep\n",
    "import phate\n",
    "import numpy as np\n",
    "import SPARC\n",
    "import gspa"
   ]
  },
  {
   "cell_type": "markdown",
   "id": "54b35ada",
   "metadata": {},
   "source": [
    "### Preprocess"
   ]
  },
  {
   "cell_type": "code",
   "execution_count": 32,
   "id": "7fa3c4d9",
   "metadata": {},
   "outputs": [
    {
     "name": "stderr",
     "output_type": "stream",
     "text": [
      "/home/aarthivenkat/.local/lib/python3.8/site-packages/anndata/_core/anndata.py:1830: UserWarning: Variable names are not unique. To make them unique, call `.var_names_make_unique`.\n",
      "  utils.warn_names_duplicates(\"var\")\n"
     ]
    },
    {
     "name": "stdout",
     "output_type": "stream",
     "text": [
      "#cells after MT filter: 3861\n"
     ]
    },
    {
     "name": "stderr",
     "output_type": "stream",
     "text": [
      "/home/aarthivenkat/.local/lib/python3.8/site-packages/scanpy/preprocessing/_simple.py:251: ImplicitModificationWarning: Trying to modify attribute `.var` of view, initializing view as actual.\n",
      "  adata.var['n_cells'] = number\n"
     ]
    }
   ],
   "source": [
    "adata = sc.datasets.visium_sge(sample_id=\"V1_Human_Lymph_Node\")\n",
    "adata.var_names_make_unique()\n",
    "adata.var[\"mt\"] = adata.var_names.str.startswith(\"MT-\")\n",
    "sc.pp.calculate_qc_metrics(adata, qc_vars=[\"mt\"], inplace=True)\n",
    "sc.pp.filter_cells(adata, min_counts=5000)\n",
    "sc.pp.filter_cells(adata, max_counts=35000)\n",
    "adata = adata[adata.obs[\"pct_counts_mt\"] < 20]\n",
    "print(f\"#cells after MT filter: {adata.n_obs}\")\n",
    "sc.pp.filter_genes(adata, min_cells=10)\n",
    "sc.pp.normalize_total(adata, inplace=True)\n",
    "sc.pp.log1p(adata)\n",
    "sc.pp.highly_variable_genes(adata, flavor=\"seurat\", n_top_genes=2000)"
   ]
  },
  {
   "cell_type": "code",
   "execution_count": 33,
   "id": "571c3861",
   "metadata": {},
   "outputs": [],
   "source": [
    "adata.write('data/V1_Human_Lymph_Node/processed.h5ad')"
   ]
  },
  {
   "cell_type": "markdown",
   "id": "97b6c3ef",
   "metadata": {},
   "source": [
    "### Get SPARC operator"
   ]
  },
  {
   "cell_type": "code",
   "execution_count": 4,
   "id": "990072b7",
   "metadata": {},
   "outputs": [],
   "source": [
    "adata = sc.read_h5ad('data/V1_Human_Lymph_Node/processed.h5ad')"
   ]
  },
  {
   "cell_type": "code",
   "execution_count": 5,
   "id": "461f1102",
   "metadata": {},
   "outputs": [
    {
     "name": "stdout",
     "output_type": "stream",
     "text": [
      "Calculating spARC...\n",
      "  Calculating PCA...\n",
      "  Calculated PCA in 3.20 seconds.\n",
      "  Calculating expression graph...\n",
      "  Calculated expression graph in 0.99 seconds.\n",
      "  Calculating spatial graph...\n",
      "  Calculated spatial graph in 1.48 seconds.\n",
      "  Calculating random walks on expression graph...\n",
      "  Calculated random walks on expression graph in 0.39 seconds.\n",
      "  Calculating random walks on spatial graph...\n",
      "  Calculating spARCed expression data...\n",
      "  Calculated spARCed expression data in 1.44 seconds.\n",
      "Calculated spARC in 7.51 seconds.\n"
     ]
    }
   ],
   "source": [
    "sparc_op = SPARC.spARC(n_jobs=-1, random_state=42)\n",
    "data_sparc = sparc_op.fit_transform(expression_X = adata.to_df(),\n",
    "                                    spatial_X = adata.obs[['array_row', 'array_col']])"
   ]
  },
  {
   "cell_type": "code",
   "execution_count": 6,
   "id": "1b931898",
   "metadata": {},
   "outputs": [],
   "source": [
    "integrated_diff_op = sparc_op.expression_diff_op @ sparc_op.spatial_diff_op"
   ]
  },
  {
   "cell_type": "markdown",
   "id": "b948e761",
   "metadata": {},
   "source": [
    "## GSPA"
   ]
  },
  {
   "cell_type": "code",
   "execution_count": 7,
   "id": "44a20d6d-0952-4529-bea6-30e16e4f6bdc",
   "metadata": {},
   "outputs": [
    {
     "name": "stderr",
     "output_type": "stream",
     "text": [
      "100%|██████████| 6/6 [00:18<00:00,  3.07s/it]\n"
     ]
    }
   ],
   "source": [
    "# GSPA operator constructs wavelet dictionary with integrated diffusion operator\n",
    "# When inputting diffusion operator, GSPA operator does not need to construct graph or diffusion operator\n",
    "gspa_op = gspa.GSPA(diffusion_operator = integrated_diff_op)\n",
    "gspa_op.build_wavelet_dictionary()"
   ]
  },
  {
   "cell_type": "code",
   "execution_count": 10,
   "id": "58c353e4",
   "metadata": {},
   "outputs": [],
   "source": [
    "data_hvg, hvgs = scprep.select.highly_variable_genes(adata.to_df(), adata.var_names, percentile=90)"
   ]
  },
  {
   "cell_type": "code",
   "execution_count": 11,
   "id": "e96349b2-3509-479f-b7e6-bdae5f6a72ba",
   "metadata": {
    "scrolled": true
   },
   "outputs": [
    {
     "name": "stdout",
     "output_type": "stream",
     "text": [
      "Epoch 1/100\n",
      "59/59 [==============================] - 0s 4ms/step - loss: 0.0034 - val_loss: 0.0029\n",
      "Epoch 2/100\n",
      "59/59 [==============================] - 0s 3ms/step - loss: 0.0026 - val_loss: 0.0024\n",
      "Epoch 3/100\n",
      "59/59 [==============================] - 0s 3ms/step - loss: 0.0023 - val_loss: 0.0022\n",
      "Epoch 4/100\n",
      "59/59 [==============================] - 0s 3ms/step - loss: 0.0021 - val_loss: 0.0021\n",
      "Epoch 5/100\n",
      "59/59 [==============================] - 0s 3ms/step - loss: 0.0020 - val_loss: 0.0020\n",
      "Epoch 6/100\n",
      "59/59 [==============================] - 0s 3ms/step - loss: 0.0019 - val_loss: 0.0020\n",
      "Epoch 7/100\n",
      "59/59 [==============================] - 0s 3ms/step - loss: 0.0019 - val_loss: 0.0019\n",
      "Epoch 8/100\n",
      "59/59 [==============================] - 0s 3ms/step - loss: 0.0018 - val_loss: 0.0019\n",
      "Epoch 9/100\n",
      "59/59 [==============================] - 0s 3ms/step - loss: 0.0018 - val_loss: 0.0019\n",
      "Epoch 10/100\n",
      "59/59 [==============================] - 0s 3ms/step - loss: 0.0018 - val_loss: 0.0019\n",
      "Epoch 11/100\n",
      "59/59 [==============================] - 0s 3ms/step - loss: 0.0017 - val_loss: 0.0019\n",
      "Epoch 12/100\n",
      "59/59 [==============================] - 0s 3ms/step - loss: 0.0017 - val_loss: 0.0019\n",
      "Epoch 13/100\n",
      "59/59 [==============================] - 0s 3ms/step - loss: 0.0017 - val_loss: 0.0019\n",
      "Epoch 14/100\n",
      "59/59 [==============================] - 0s 3ms/step - loss: 0.0017 - val_loss: 0.0019\n",
      "Epoch 15/100\n",
      "59/59 [==============================] - 0s 3ms/step - loss: 0.0016 - val_loss: 0.0019\n",
      "Epoch 16/100\n",
      "59/59 [==============================] - 0s 3ms/step - loss: 0.0016 - val_loss: 0.0019\n",
      "Epoch 17/100\n",
      "59/59 [==============================] - 0s 3ms/step - loss: 0.0016 - val_loss: 0.0019\n",
      "Epoch 18/100\n",
      "59/59 [==============================] - 0s 3ms/step - loss: 0.0016 - val_loss: 0.0019\n",
      "Epoch 19/100\n",
      "59/59 [==============================] - 0s 3ms/step - loss: 0.0016 - val_loss: 0.0019\n",
      "Epoch 20/100\n",
      "59/59 [==============================] - 0s 3ms/step - loss: 0.0016 - val_loss: 0.0019\n",
      "Epoch 21/100\n",
      "59/59 [==============================] - 0s 3ms/step - loss: 0.0015 - val_loss: 0.0019\n",
      "Epoch 22/100\n",
      "59/59 [==============================] - 0s 3ms/step - loss: 0.0015 - val_loss: 0.0019\n",
      "Epoch 23/100\n",
      "59/59 [==============================] - 0s 3ms/step - loss: 0.0015 - val_loss: 0.0019\n",
      "Epoch 24/100\n",
      "59/59 [==============================] - 0s 3ms/step - loss: 0.0015 - val_loss: 0.0019\n",
      "Epoch 25/100\n",
      "59/59 [==============================] - 0s 3ms/step - loss: 0.0015 - val_loss: 0.0019\n",
      "Epoch 26/100\n",
      "59/59 [==============================] - 0s 3ms/step - loss: 0.0015 - val_loss: 0.0019\n",
      "Computing localization with signals used for gene embedding.\n"
     ]
    }
   ],
   "source": [
    "gene_signals = data_hvg.T # embed all highly variable genes\n",
    "gene_ae, gene_pc = gspa_op.get_gene_embeddings(gene_signals)\n",
    "gene_localization = gspa_op.calculate_localization()"
   ]
  },
  {
   "cell_type": "code",
   "execution_count": 12,
   "id": "37d4e13a",
   "metadata": {},
   "outputs": [],
   "source": [
    "np.savez('./results/GSPA_QR.npz', signal_embedding=gene_ae,\n",
    "         localization_score=gene_localization, genes=hvgs)"
   ]
  }
 ],
 "metadata": {
  "kernelspec": {
   "display_name": "Python 3 (ipykernel)",
   "language": "python",
   "name": "python3"
  },
  "language_info": {
   "codemirror_mode": {
    "name": "ipython",
    "version": 3
   },
   "file_extension": ".py",
   "mimetype": "text/x-python",
   "name": "python",
   "nbconvert_exporter": "python",
   "pygments_lexer": "ipython3",
   "version": "3.8.18"
  }
 },
 "nbformat": 4,
 "nbformat_minor": 5
}
