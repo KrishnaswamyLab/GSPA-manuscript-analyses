{
 "cells": [
  {
   "cell_type": "code",
   "execution_count": 1,
   "id": "cff231f7",
   "metadata": {},
   "outputs": [
    {
     "name": "stderr",
     "output_type": "stream",
     "text": [
      "/home/aarthivenkat/.local/lib/python3.8/site-packages/pandas/core/computation/expressions.py:20: UserWarning: Pandas requires version '2.7.3' or newer of 'numexpr' (version '2.7.1' currently installed).\n",
      "  from pandas.core.computation.check import NUMEXPR_INSTALLED\n"
     ]
    }
   ],
   "source": [
    "import scanpy as sc\n",
    "import matplotlib.pyplot as plt\n",
    "import pandas as pd\n",
    "import numpy as np\n",
    "import networkx as nx\n",
    "from collections import defaultdict\n",
    "import scprep"
   ]
  },
  {
   "cell_type": "code",
   "execution_count": 2,
   "id": "b6af0c52",
   "metadata": {},
   "outputs": [],
   "source": [
    "adata_ref = sc.read_h5ad('data/reference.h5ad')"
   ]
  },
  {
   "cell_type": "code",
   "execution_count": 4,
   "id": "4059e1e9",
   "metadata": {},
   "outputs": [],
   "source": [
    "threshold = int(adata_ref.n_vars * 0.1)\n",
    "de = pd.DataFrame(adata_ref.uns['rank_genes_groups']['names']).iloc[:threshold]"
   ]
  },
  {
   "cell_type": "code",
   "execution_count": 5,
   "id": "98ed3f16",
   "metadata": {},
   "outputs": [],
   "source": [
    "de_ct = de.copy()\n",
    "for ct in de.columns:\n",
    "    de_ct[ct] = adata_ref.var.loc[de[ct]]['SYMBOL'].values"
   ]
  },
  {
   "cell_type": "code",
   "execution_count": 6,
   "id": "0fe9ff7a",
   "metadata": {},
   "outputs": [],
   "source": [
    "for gene_cluster in range(6):\n",
    "    gc = pd.read_csv(f'results/Cluster_{gene_cluster}_omnipath_genes.tsv', sep='\\t', header=None)\n",
    "    gene_cluster_edges_with_cell_state_specificity = []\n",
    "\n",
    "    for row in gc.iterrows():    \n",
    "        gene1 = row[1][0]\n",
    "        celltypes_gene1 = (de_ct == gene1).sum(axis=0)[(de_ct == gene1).sum(axis=0) > 0].index\n",
    "        \n",
    "        gene2 = row[1][1]\n",
    "        celltypes_gene2 = (de_ct == gene2).sum(axis=0)[(de_ct == gene2).sum(axis=0) > 0].index\n",
    "        \n",
    "        edgetype = row[1][2]\n",
    "        \n",
    "        if (len(celltypes_gene1) > 0) & (len(celltypes_gene2) > 0):\n",
    "            gene_cluster_edges_with_cell_state_specificity.append(f\"{gene1}\\t{gene2}\\t{edgetype}\\t{','.join(celltypes_gene1)}\\t{','.join(celltypes_gene2)}\")\n",
    "\n",
    "    with open(f'results/Cluster_{gene_cluster}_omnipath_genes_with_cell_types.tsv', 'w') as f:\n",
    "        for edge in gene_cluster_edges_with_cell_state_specificity:\n",
    "            f.write(f\"{edge}\\n\")"
   ]
  },
  {
   "cell_type": "code",
   "execution_count": 15,
   "id": "6ef445a1",
   "metadata": {},
   "outputs": [],
   "source": [
    "gene_cluster_cell_types = {\n",
    "0:['B_preGC', 'B_mem', 'Macrophages_M1', 'DC_cDC1', 'NKT', 'Mast', 'Monocytes', 'Endo', 'DC_cDC2', 'VSMC', 'T_CD4+', 'ILC', 'B_activated', 'Macrophages_M2', 'DC_pDC', 'NK'],\n",
    "1:['FDC', 'B_GC_LZ', 'T_CD4+_TfH_GC', 'B_GC_prePB', 'B_Cycling', 'B_GC_DZ'],\n",
    "2:['DC_CCR7+', 'T_TfR', 'T_Treg', 'T_CD4+_naive', 'T_CD8+_naive', 'T_TIM3+', 'T_CD8+_cytotoxic', 'T_CD4+_TfH', 'T_CD8+_CD161+'],\n",
    "3:['B_naive'],\n",
    "4:['B_plasma'],\n",
    "5:['B_IFN']}"
   ]
  },
  {
   "cell_type": "code",
   "execution_count": 28,
   "id": "d6ec7e5c",
   "metadata": {},
   "outputs": [],
   "source": [
    "for gene_cluster in range(6):\n",
    "    df = pd.read_csv(f'results/Cluster_{gene_cluster}_omnipath_genes_with_cell_types.tsv', sep='\\t', header=None)\n",
    "    #ccc = pd.DataFrame(0, index=adata_ref.obs['Subset'].cat.categories, columns=adata_ref.obs['Subset'].cat.categories)\n",
    "    ccc = pd.DataFrame(0, index=gene_cluster_cell_types[gene_cluster], columns=gene_cluster_cell_types[gene_cluster])\n",
    "    ccc_intracellular = pd.DataFrame(0, index=gene_cluster_cell_types[gene_cluster], columns=gene_cluster_cell_types[gene_cluster])\n",
    "    \n",
    "    for row in df.iterrows():\n",
    "        edgetype = row[1][2]\n",
    "        source_celltypes = row[1][3].split(',')\n",
    "        target_celltypes = row[1][4].split(',')\n",
    "        \n",
    "        source_celltypes = set(source_celltypes).intersection(gene_cluster_cell_types[gene_cluster])\n",
    "        target_celltypes = set(target_celltypes).intersection(gene_cluster_cell_types[gene_cluster])\n",
    "        \n",
    "        if 'transcriptional' in edgetype:\n",
    "            # only intracelltype relationships\n",
    "            possible_cell_types = set(source_celltypes).intersection(target_celltypes)\n",
    "\n",
    "            for type in possible_cell_types:\n",
    "                ccc_intracellular[type][type] += 1\n",
    "        \n",
    "        if 'translational' in edgetype:\n",
    "            # intracelltype and intercelltype\n",
    "            for source in source_celltypes:\n",
    "                for target in target_celltypes:\n",
    "                    ccc[source][target] += 1\n",
    "                \n",
    "    ccc= ccc.rename_axis('Source')\\\n",
    "      .reset_index()\\\n",
    "      .melt('Source', value_name='Weight', var_name='Target')\\\n",
    "      .reset_index(drop=True)\n",
    "    \n",
    "    ccc.to_csv(f'results/Cluster_{gene_cluster}_intercellular_CCC_graph.tsv', sep='\\t')\n",
    "    \n",
    "    \n",
    "    ccc_intracellular= ccc_intracellular.rename_axis('Source')\\\n",
    "      .reset_index()\\\n",
    "      .melt('Source', value_name='Weight', var_name='Target')\\\n",
    "      .reset_index(drop=True)\n",
    "\n",
    "    ccc_intracellular.to_csv(f'results/Cluster_{gene_cluster}_intracellular_CCC_graph.tsv', sep='\\t')"
   ]
  },
  {
   "cell_type": "code",
   "execution_count": 58,
   "id": "ba5c8b91",
   "metadata": {},
   "outputs": [],
   "source": [
    "for gene_cluster in range(6):\n",
    "    ccc_intercellular = pd.read_csv(f'results/Cluster_{gene_cluster}_CCC_graph.tsv', sep='\\t', index_col=0)\n",
    "    ccc_intracellular = pd.read_csv(f'results/Cluster_{gene_cluster}_intracellular_CCC_graph.tsv', sep='\\t', index_col=0)\n",
    "    df = pd.concat((pd.concat((ccc_intercellular, ccc_intracellular)).reset_index(), pd.Series(['intercellular']*len(ccc_intercellular) + ['intracellular']*len(ccc_intracellular))), axis=1, ignore_index=True).iloc[:, 1:]\n",
    "    df.to_csv(f'results/CCC_{gene_cluster}_with_intracellular.csv')"
   ]
  },
  {
   "cell_type": "code",
   "execution_count": 19,
   "id": "6d67aa8c",
   "metadata": {},
   "outputs": [],
   "source": [
    "ccc = pd.read_csv(f'results/Cluster_0_CCC_graph.tsv', sep='\\t', index_col=0)\n",
    "for c in range(1,6):\n",
    "    ccc = pd.concat((ccc, pd.read_csv(f'results/Cluster_{c}_intercellular_CCC_graph.tsv', sep='\\t', index_col=0)['Weight']), axis=1)\n",
    "    \n",
    "ccc.columns = ['Source', 'Target', 'Gene_Cluster_0', 'Gene_Cluster_1', 'Gene_Cluster_2', 'Gene_Cluster_3', 'Gene_Cluster_4', 'Gene_Cluster_5']\n",
    "ccc.to_csv('results/all_intercellular_CCC.csv')"
   ]
  }
 ],
 "metadata": {
  "kernelspec": {
   "display_name": "Python 3 (ipykernel)",
   "language": "python",
   "name": "python3"
  },
  "language_info": {
   "codemirror_mode": {
    "name": "ipython",
    "version": 3
   },
   "file_extension": ".py",
   "mimetype": "text/x-python",
   "name": "python",
   "nbconvert_exporter": "python",
   "pygments_lexer": "ipython3",
   "version": "3.8.18"
  }
 },
 "nbformat": 4,
 "nbformat_minor": 5
}
