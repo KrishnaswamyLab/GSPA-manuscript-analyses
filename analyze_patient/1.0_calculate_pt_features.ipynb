{
 "cells": [
  {
   "cell_type": "code",
   "execution_count": 2,
   "id": "b0f69518",
   "metadata": {},
   "outputs": [],
   "source": [
    "import pandas as pd\n",
    "import numpy as np\n",
    "import scanpy, phate\n",
    "from sklearn import preprocessing"
   ]
  },
  {
   "cell_type": "code",
   "execution_count": null,
   "id": "8f3d5919-a0fc-41ae-af7c-adc7a4ec7523",
   "metadata": {},
   "outputs": [],
   "source": [
    "data = scanpy.read_h5ad('./data/processed_data.h5ad')\n",
    "# subset to those samples with known response\n",
    "data = data[data.obs['response'].isin(['NR', 'R'])]"
   ]
  },
  {
   "cell_type": "markdown",
   "id": "826050bf",
   "metadata": {},
   "source": [
    "## GSPA patient indicator"
   ]
  },
  {
   "cell_type": "code",
   "execution_count": null,
   "id": "fe887f59-b3b9-4714-87c3-eb5d32430b55",
   "metadata": {},
   "outputs": [],
   "source": [
    "gspa_op = gspa.GSPA(use_reduced=False)\n",
    "gspa_op.construct_graph(data)\n",
    "gspa_op.build_diffusion_operator()\n",
    "gspa_op.build_wavelet_dictionary()"
   ]
  },
  {
   "cell_type": "code",
   "execution_count": 6,
   "id": "2fe4c23e",
   "metadata": {},
   "outputs": [],
   "source": [
    "patient_indicator = preprocessing.OneHotEncoder().fit_transform(np.array(data.obs['patient']).reshape(-1,1)).T.todense()"
   ]
  },
  {
   "cell_type": "code",
   "execution_count": null,
   "id": "13aab754-e9e2-4d13-9223-afe58f957d4e",
   "metadata": {},
   "outputs": [],
   "source": [
    "# Embed patient indicator signals\n",
    "pt_ae, pt_pc = gspa_op.get_gene_embeddings(patient_indicator)\n",
    "np.save('results/GSPA_patient.npy', pt_ae)"
   ]
  },
  {
   "cell_type": "markdown",
   "id": "75ae4928",
   "metadata": {},
   "source": [
    "## Cluster proportion, CD8"
   ]
  },
  {
   "cell_type": "code",
   "execution_count": 107,
   "id": "abcbb0d8",
   "metadata": {},
   "outputs": [],
   "source": [
    "data_cd8 = data[data.obs['isCD8'], :]\n",
    "patient_proportions = pd.DataFrame(index=np.unique(data_cd8.obs['patient']), columns=np.unique(data_cd8.obs['cluster_cd8']))\n",
    "for patient in np.unique(data_cd8.obs['patient']):\n",
    "    pat = data_cd8[data_cd8.obs['patient'] == patient]\n",
    "    pat_prop = pat.obs['cluster_cd8'].value_counts() / pat.n_obs\n",
    "    patient_proportions.loc[patient] = pat_prop\n",
    "\n",
    "patient_proportions.fillna(0, inplace=True)\n",
    "np.save('results/proportion_cd8.npy', np.array(patient_proportions))"
   ]
  },
  {
   "cell_type": "markdown",
   "id": "b508c2f6",
   "metadata": {},
   "source": [
    "## Cluster proportion, all"
   ]
  },
  {
   "cell_type": "code",
   "execution_count": 114,
   "id": "05625030",
   "metadata": {},
   "outputs": [],
   "source": [
    "patient_proportions = pd.DataFrame(index=np.unique(data.obs['patient']), columns=np.unique(data.obs['cluster_all']))\n",
    "for patient in np.unique(data.obs['patient']):\n",
    "    pat = data[data.obs['patient'] == patient]\n",
    "    pat_prop = pat.obs['cluster_all'].value_counts() / pat.n_obs\n",
    "    patient_proportions.loc[patient] = pat_prop\n",
    "\n",
    "patient_proportions.fillna(0, inplace=True)\n",
    "np.save('results/proportion_all.npy', np.array(patient_proportions))"
   ]
  },
  {
   "cell_type": "markdown",
   "id": "2062ef5f",
   "metadata": {},
   "source": [
    "## Mean expression"
   ]
  },
  {
   "cell_type": "code",
   "execution_count": 63,
   "id": "1ded3083",
   "metadata": {},
   "outputs": [],
   "source": [
    "mean_patients = []\n",
    "for patient in np.unique(data.obs['patient']):\n",
    "    pat = data[data.obs['patient'] == patient]\n",
    "    mean_patients.append(pat.to_df().mean(axis=0))\n",
    "p.save('results/mean.npy', np.array(mean_patients))"
   ]
  },
  {
   "cell_type": "markdown",
   "id": "0fb93623",
   "metadata": {},
   "source": [
    "## GSPA QR gene signals"
   ]
  },
  {
   "cell_type": "code",
   "execution_count": null,
   "id": "8a427c5c-e503-4b9b-b6b2-c2b04f0eda65",
   "metadata": {},
   "outputs": [],
   "source": [
    "gspa_op = gspa.GSPA()\n",
    "gspa_op.construct_graph(data)\n",
    "gspa_op.build_diffusion_operator()\n",
    "gspa_op.build_wavelet_dictionary()"
   ]
  },
  {
   "cell_type": "code",
   "execution_count": null,
   "id": "ca9457e4",
   "metadata": {},
   "outputs": [],
   "source": [
    "all_patients_reduced = []\n",
    "for i,pt in enumerate(np.unique(data.obs['patient'])):\n",
    "    patient = data[data.obs['patient'] == pt].to_df().T.values\n",
    "    gene_signal_projected = gspa.embedding.project(patient, dictionary[data.obs['patient'] == pt])\n",
    "    gene_signal_reduced = gspa.embedding.svd(gene_signal_projected)\n",
    "    all_patients_reduced.append(gene_signal_reduced[:, :5])\n",
    "    \n",
    "np.save('results/GSPA_QR_gene.npy', np.array(all_patients_reduced))"
   ]
  }
 ],
 "metadata": {
  "kernelspec": {
   "display_name": "Python 3 (ipykernel)",
   "language": "python",
   "name": "python3"
  },
  "language_info": {
   "codemirror_mode": {
    "name": "ipython",
    "version": 3
   },
   "file_extension": ".py",
   "mimetype": "text/x-python",
   "name": "python",
   "nbconvert_exporter": "python",
   "pygments_lexer": "ipython3",
   "version": "3.8.18"
  }
 },
 "nbformat": 4,
 "nbformat_minor": 5
}
